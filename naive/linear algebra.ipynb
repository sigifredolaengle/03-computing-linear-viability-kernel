{
 "cells": [
  {
   "cell_type": "markdown",
   "id": "02adb454-280f-43d4-ad1d-2f2aeebe5488",
   "metadata": {},
   "source": [
    "https://doc.sagemath.org/html/en/reference/matrices/sage/matrix/matrix_symbolic_dense.html"
   ]
  },
  {
   "cell_type": "code",
   "execution_count": 64,
   "id": "8f983185-d33c-4225-90a9-9f4d6aeda673",
   "metadata": {},
   "outputs": [],
   "source": [
    "A = matrix(SR, 2, 2, var('t')) # Symbolic"
   ]
  },
  {
   "cell_type": "code",
   "execution_count": 5,
   "id": "5105c740-bbad-470d-9e4f-c7d3935b2518",
   "metadata": {},
   "outputs": [
    {
     "data": {
      "text/plain": [
       "[t^2   0]\n",
       "[  0 t^2]"
      ]
     },
     "execution_count": 5,
     "metadata": {},
     "output_type": "execute_result"
    }
   ],
   "source": [
    "A*A"
   ]
  },
  {
   "cell_type": "code",
   "execution_count": 6,
   "id": "b501e777-9ef5-48ee-9fdf-ed4b12013b5f",
   "metadata": {},
   "outputs": [],
   "source": [
    "M = matrix(SR, 2, var('a,b,c,d'))"
   ]
  },
  {
   "cell_type": "code",
   "execution_count": 7,
   "id": "f9958766-a446-4f86-87c8-0bcb13a92358",
   "metadata": {},
   "outputs": [
    {
     "data": {
      "text/plain": [
       "[1/a - b*c/(a^2*(b*c/a - d))           b/(a*(b*c/a - d))]\n",
       "[          c/(a*(b*c/a - d))              -1/(b*c/a - d)]"
      ]
     },
     "execution_count": 7,
     "metadata": {},
     "output_type": "execute_result"
    }
   ],
   "source": [
    "~M"
   ]
  },
  {
   "cell_type": "code",
   "execution_count": 15,
   "id": "a944c210-1596-4176-9585-314fbc2aa815",
   "metadata": {},
   "outputs": [
    {
     "data": {
      "text/plain": [
       "[1 0]\n",
       "[0 1]"
      ]
     },
     "execution_count": 15,
     "metadata": {},
     "output_type": "execute_result"
    }
   ],
   "source": [
    "(M.inverse()*M).simplify_rational()"
   ]
  },
  {
   "cell_type": "code",
   "execution_count": 22,
   "id": "3a608f6c-58f2-4abe-ae98-55177798a69b",
   "metadata": {},
   "outputs": [
    {
     "data": {
      "text/plain": [
       "[      x^2 2*sqrt(y)]\n",
       "[        3         4]"
      ]
     },
     "execution_count": 22,
     "metadata": {},
     "output_type": "execute_result"
    }
   ],
   "source": [
    "var('x y')\n",
    "M = matrix(SR, 2, 2, [x^2,2*sqrt(y),3,4]); M"
   ]
  },
  {
   "cell_type": "code",
   "execution_count": 23,
   "id": "615b6a2b-f52c-49a2-a170-46fcffffb7c4",
   "metadata": {},
   "outputs": [
    {
     "data": {
      "text/plain": [
       "[1 0]\n",
       "[0 1]"
      ]
     },
     "execution_count": 23,
     "metadata": {},
     "output_type": "execute_result"
    }
   ],
   "source": [
    "(~M*M).simplify_rational()"
   ]
  },
  {
   "cell_type": "code",
   "execution_count": 30,
   "id": "54e5a0ff-c1cb-4b76-8845-930e8e4834ed",
   "metadata": {},
   "outputs": [],
   "source": [
    "m = matrix(SR, 2, [sqrt(2), 3, pi, e])\n",
    "n = copy(m)"
   ]
  },
  {
   "cell_type": "code",
   "execution_count": 31,
   "id": "69c2bbd6-730f-47f7-94cb-35c48e20789b",
   "metadata": {},
   "outputs": [
    {
     "data": {
      "text/plain": [
       "[sin(1)      3]\n",
       "[    pi      e]"
      ]
     },
     "execution_count": 31,
     "metadata": {},
     "output_type": "execute_result"
    }
   ],
   "source": [
    "n[0, 0] = sin(1)\n",
    "n"
   ]
  },
  {
   "cell_type": "code",
   "execution_count": 32,
   "id": "58e563ca-ec4f-440e-9f54-70dfe96c7127",
   "metadata": {},
   "outputs": [
    {
     "data": {
      "text/plain": [
       "[sqrt(2)       3]\n",
       "[     pi       e]"
      ]
     },
     "execution_count": 32,
     "metadata": {},
     "output_type": "execute_result"
    }
   ],
   "source": [
    "m"
   ]
  },
  {
   "cell_type": "code",
   "execution_count": 34,
   "id": "2a719535-d95f-4ab7-b42d-97ad5bfd5c4f",
   "metadata": {},
   "outputs": [
    {
     "data": {
      "text/plain": [
       "[a b]\n",
       "[c d]"
      ]
     },
     "execution_count": 34,
     "metadata": {},
     "output_type": "execute_result"
    }
   ],
   "source": [
    "M = matrix(SR, 2, 2, var('a,b,c,d')); M"
   ]
  },
  {
   "cell_type": "code",
   "execution_count": 38,
   "id": "193ea2b7-3a59-469b-ac0c-1b3ed1c3b012",
   "metadata": {},
   "outputs": [
    {
     "data": {
      "text/plain": [
       "t^2 + (-a - d)*t - b*c + a*d"
      ]
     },
     "execution_count": 38,
     "metadata": {},
     "output_type": "execute_result"
    }
   ],
   "source": [
    "M.charpoly('t')"
   ]
  },
  {
   "cell_type": "code",
   "execution_count": 49,
   "id": "03e32df3-3b44-4216-a158-b32b19d1163f",
   "metadata": {},
   "outputs": [],
   "source": [
    "M = matrix(SR, 5, [1..5^2])"
   ]
  },
  {
   "cell_type": "code",
   "execution_count": 57,
   "id": "fb99ea43-1e2b-40d5-a577-874e94da89d7",
   "metadata": {},
   "outputs": [
    {
     "data": {
      "text/plain": [
       "[-1/2*sqrt(33) + 5/2, 1/2*sqrt(33) + 5/2]"
      ]
     },
     "execution_count": 57,
     "metadata": {},
     "output_type": "execute_result"
    }
   ],
   "source": [
    "a=matrix(SR,[[1,2],[3,4]])\n",
    "a.eigenvalues()"
   ]
  },
  {
   "cell_type": "code",
   "execution_count": 48,
   "id": "938f00ec-dc38-4444-b8fe-a4601548bb1c",
   "metadata": {},
   "outputs": [
    {
     "data": {
      "text/plain": [
       "1/2*a + 1/2*d - 1/2*sqrt(a^2 + 4*b*c - 2*a*d + d^2)"
      ]
     },
     "execution_count": 48,
     "metadata": {},
     "output_type": "execute_result"
    }
   ],
   "source": [
    "M.eigenvalues()[0]"
   ]
  },
  {
   "cell_type": "code",
   "execution_count": 112,
   "id": "adab04bd-df0e-4196-811d-76aafe930e2e",
   "metadata": {},
   "outputs": [],
   "source": [
    "M = matrix(SR, 5, [1..5^2])"
   ]
  },
  {
   "cell_type": "code",
   "execution_count": 113,
   "id": "ea2932c3-1cc1-4de4-90a3-d0eb6c0d792b",
   "metadata": {},
   "outputs": [],
   "source": [
    "a,b,c,d = var('a,b,c,d')"
   ]
  },
  {
   "cell_type": "code",
   "execution_count": 114,
   "id": "1636ecd7-9e1c-4e45-8094-9636682dfaba",
   "metadata": {},
   "outputs": [
    {
     "data": {
      "text/plain": [
       "[a]"
      ]
     },
     "execution_count": 114,
     "metadata": {},
     "output_type": "execute_result"
    }
   ],
   "source": [
    "matrix([a]).jordan_form()"
   ]
  },
  {
   "cell_type": "code",
   "execution_count": 120,
   "id": "106252bf-3b4e-4b07-88de-eba5f1cc17f5",
   "metadata": {},
   "outputs": [
    {
     "data": {
      "text/plain": [
       "[c 0 0]\n",
       "[0 a 0]\n",
       "[0 0 0]"
      ]
     },
     "execution_count": 120,
     "metadata": {},
     "output_type": "execute_result"
    }
   ],
   "source": [
    "matrix([[0, 0, 0], [d, c, 0], [0, d, a]]).jordan_form(subdivide=True).simplify_rational()"
   ]
  },
  {
   "cell_type": "code",
   "execution_count": 121,
   "id": "0d08d71f-52e0-4896-9b81-59e1889b30dc",
   "metadata": {},
   "outputs": [
    {
     "data": {
      "text/plain": [
       "[a 1 0]\n",
       "[0 a 0]\n",
       "[0 0 0]"
      ]
     },
     "execution_count": 121,
     "metadata": {},
     "output_type": "execute_result"
    }
   ],
   "source": [
    "J, P = matrix([[a, 0, 0], [d, 0, 0], [0, d, a]]).jordan_form(transformation=True); J.simplify_rational()"
   ]
  },
  {
   "cell_type": "code",
   "execution_count": 122,
   "id": "848e9ebe-d3f8-409e-a7a3-a87634fa7983",
   "metadata": {},
   "outputs": [
    {
     "data": {
      "text/plain": [
       "[a 0 0]\n",
       "[d 0 0]\n",
       "[0 d a]"
      ]
     },
     "execution_count": 122,
     "metadata": {},
     "output_type": "execute_result"
    }
   ],
   "source": [
    "P * J * ~P"
   ]
  },
  {
   "cell_type": "code",
   "execution_count": null,
   "id": "bb100c43-9fff-45d4-b7ef-8eb42016b8df",
   "metadata": {},
   "outputs": [],
   "source": []
  }
 ],
 "metadata": {
  "kernelspec": {
   "display_name": "SageMath 9.8",
   "language": "sage",
   "name": "sagemath-9.8"
  },
  "language_info": {
   "codemirror_mode": {
    "name": "ipython",
    "version": 3
   },
   "file_extension": ".py",
   "mimetype": "text/x-python",
   "name": "python",
   "nbconvert_exporter": "python",
   "pygments_lexer": "ipython3",
   "version": "3.11.1"
  }
 },
 "nbformat": 4,
 "nbformat_minor": 5
}
