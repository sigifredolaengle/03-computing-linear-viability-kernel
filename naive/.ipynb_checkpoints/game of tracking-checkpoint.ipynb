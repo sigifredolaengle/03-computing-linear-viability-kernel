{
 "cells": [
  {
   "cell_type": "markdown",
   "metadata": {},
   "source": [
    "# Game of Tracking"
   ]
  },
  {
   "cell_type": "markdown",
   "metadata": {},
   "source": [
    "See https://www.dropbox.com/s/68jocwi0bk8x34q/JOTA_Botkin_Ryazantceva.pdf?dl=0 . It models unidimensional tracking of an objective."
   ]
  },
  {
   "cell_type": "markdown",
   "metadata": {},
   "source": [
    "Original continuous model"
   ]
  },
  {
   "cell_type": "markdown",
   "metadata": {},
   "source": [
    "$\\dot{x}=p,\\dot{y}=x+q$, therefore $A\\doteq\\begin{pmatrix}0&0\\\\1&0\\end{pmatrix}$, $B_p\\doteq\\begin{pmatrix}1\\\\0\\end{pmatrix}$, and $B_q\\doteq\\begin{pmatrix}0\\\\1\\end{pmatrix}$."
   ]
  },
  {
   "cell_type": "markdown",
   "metadata": {},
   "source": [
    "The continuous system will be discretized as\n",
    "$$(\\forall n\\in\\mathbb{N})\\quad x_{n+1} = x_n + \\gamma p, y_{n+1} = \\gamma x_n + y_n + \\frac{1}{2}\\gamma^2 q,$$\n",
    "where $\\gamma\\in\\mathbb{R}_{++}$, $x\\in\\mathbb{R}$, $y\\in[0,a]$, $p\\in[-\\mu,+\\mu]$, and $q\\in[-1,+1]$"
   ]
  },
  {
   "cell_type": "markdown",
   "metadata": {},
   "source": [
    "$(\\forall n\\in\\mathbb{N})\\quad C_{n+1}\\doteq (\\text{Id}-\\gamma A)(C_{n} + (\\gamma P \\ominus \\gamma Q))\\cap C_0,$"
   ]
  },
  {
   "cell_type": "markdown",
   "metadata": {},
   "source": [
    "where $C_0\\doteq \\mathbb{R}\\times[0,+a]$, with $a\\in\\mathbb{R}_{++}$"
   ]
  },
  {
   "cell_type": "markdown",
   "metadata": {},
   "source": [
    "### Discretisation with Scipy\n",
    "\n",
    "From [cont2discrete](https://docs.scipy.org/doc/scipy/reference/generated/scipy.signal.cont2discrete.html)."
   ]
  },
  {
   "cell_type": "code",
   "execution_count": 1,
   "metadata": {
    "tags": []
   },
   "outputs": [],
   "source": [
    "from scipy import signal as sig\n",
    "import numpy as np"
   ]
  },
  {
   "cell_type": "code",
   "execution_count": 56,
   "metadata": {
    "tags": []
   },
   "outputs": [],
   "source": [
    "gamma = 1./10."
   ]
  },
  {
   "cell_type": "code",
   "execution_count": 84,
   "metadata": {
    "tags": []
   },
   "outputs": [],
   "source": [
    "sys = sig.StateSpace(np.array([[0, 0], [1, 0]]), np.array([[1], [0]]), np.array([[0, 1]]), np.array([[0]]))\n",
    "sys = sys.to_discrete(gamma)"
   ]
  },
  {
   "cell_type": "code",
   "execution_count": 89,
   "metadata": {
    "tags": []
   },
   "outputs": [
    {
     "data": {
      "text/html": [
       "<html>\\(\\displaystyle \\left(\\begin{array}{rr}\n",
       "1.0 & 0.0 \\\\\n",
       "0.1 & 1.0\n",
       "\\end{array}\\right)\\)</html>"
      ],
      "text/latex": [
       "$\\displaystyle \\left(\\begin{array}{rr}\n",
       "1.0 & 0.0 \\\\\n",
       "0.1 & 1.0\n",
       "\\end{array}\\right)$"
      ],
      "text/plain": [
       "[1.0 0.0]\n",
       "[0.1 1.0]"
      ]
     },
     "metadata": {},
     "output_type": "display_data"
    },
    {
     "data": {
      "text/html": [
       "<html>\\(\\displaystyle \\left(\\begin{array}{rr}\n",
       "1.0 & -0.0 \\\\\n",
       "-0.1 & 1.0\n",
       "\\end{array}\\right)\\)</html>"
      ],
      "text/latex": [
       "$\\displaystyle \\left(\\begin{array}{rr}\n",
       "1.0 & -0.0 \\\\\n",
       "-0.1 & 1.0\n",
       "\\end{array}\\right)$"
      ],
      "text/plain": [
       "[ 1.0 -0.0]\n",
       "[-0.1  1.0]"
      ]
     },
     "metadata": {},
     "output_type": "display_data"
    }
   ],
   "source": [
    "A = matrix(np.ascontiguousarray(sys.A))\n",
    "show(A)\n",
    "Ainv = A.inverse()\n",
    "show(Ainv)"
   ]
  },
  {
   "cell_type": "code",
   "execution_count": 90,
   "metadata": {
    "tags": []
   },
   "outputs": [
    {
     "data": {
      "text/html": [
       "<html>\\(\\displaystyle \\left(\\begin{array}{r}\n",
       "0.1 \\\\\n",
       "0.005000000000000001\n",
       "\\end{array}\\right)\\)</html>"
      ],
      "text/latex": [
       "$\\displaystyle \\left(\\begin{array}{r}\n",
       "0.1 \\\\\n",
       "0.005000000000000001\n",
       "\\end{array}\\right)$"
      ],
      "text/plain": [
       "[                 0.1]\n",
       "[0.005000000000000001]"
      ]
     },
     "metadata": {},
     "output_type": "display_data"
    }
   ],
   "source": [
    "B_p = matrix(np.ascontiguousarray(sys.B)); show(B_p)\n",
    "mu = 1.0           # 0.1, 0.3, 1.0, 2.0\n",
    "P = Polyhedron(vertices = [[-mu, 0], [+mu, 0]])\n",
    "#P.linear_transformation(B_p)"
   ]
  },
  {
   "cell_type": "markdown",
   "metadata": {},
   "source": [
    "### Discretisation  Laengle\n",
    "\n",
    "Let $\\varphi$ a set-valued operator and $\\gamma\\in\\mathbb{R}_{++}$. The **resolvent** of $\\varphi$ is\n",
    "$$J_{\\varphi}\\doteq(\\text{Id}+\\varphi)^{-1}$$\n",
    "and the **Yosida approximation** of $\\varphi$ of index $\\gamma$ is\n",
    "$$^{\\gamma}\\varphi\\doteq\\frac{1}{\\gamma}(\\text{Id}-J_{\\gamma\\varphi}).$$"
   ]
  },
  {
   "cell_type": "code",
   "execution_count": 6,
   "metadata": {
    "tags": []
   },
   "outputs": [],
   "source": [
    "gamma = 1./10."
   ]
  },
  {
   "cell_type": "code",
   "execution_count": 72,
   "metadata": {
    "tags": []
   },
   "outputs": [
    {
     "data": {
      "text/html": [
       "<html>\\(\\displaystyle \\verb|A|\\verb| |\\verb|=| \\left(\\begin{array}{rr}\n",
       "0 & 0 \\\\\n",
       "1 & 0\n",
       "\\end{array}\\right)\\)</html>"
      ],
      "text/latex": [
       "$\\displaystyle \\verb|A|\\verb| |\\verb|=| \\left(\\begin{array}{rr}\n",
       "0 & 0 \\\\\n",
       "1 & 0\n",
       "\\end{array}\\right)$"
      ],
      "text/plain": [
       "'A = ' [0 0]\n",
       "[1 0]"
      ]
     },
     "metadata": {},
     "output_type": "display_data"
    },
    {
     "data": {
      "text/html": [
       "<html>\\(\\displaystyle \\verb|J|\\verb| |\\verb|=| \\left(\\begin{array}{rr}\n",
       "1.00000000000000 & 0.000000000000000 \\\\\n",
       "-0.100000000000000 & 1.00000000000000\n",
       "\\end{array}\\right)\\)</html>"
      ],
      "text/latex": [
       "$\\displaystyle \\verb|J|\\verb| |\\verb|=| \\left(\\begin{array}{rr}\n",
       "1.00000000000000 & 0.000000000000000 \\\\\n",
       "-0.100000000000000 & 1.00000000000000\n",
       "\\end{array}\\right)$"
      ],
      "text/plain": [
       "'J = ' [  1.00000000000000  0.000000000000000]\n",
       "[-0.100000000000000   1.00000000000000]"
      ]
     },
     "metadata": {},
     "output_type": "display_data"
    },
    {
     "data": {
      "text/html": [
       "<html>\\(\\displaystyle \\verb|Id|\\verb| |\\verb|-|\\verb| |\\verb|gamma*A|\\verb| |\\verb|=| \\left(\\begin{array}{rr}\n",
       "1.00000000000000 & 0.000000000000000 \\\\\n",
       "-0.100000000000000 & 1.00000000000000\n",
       "\\end{array}\\right)\\)</html>"
      ],
      "text/latex": [
       "$\\displaystyle \\verb|Id|\\verb| |\\verb|-|\\verb| |\\verb|gamma*A|\\verb| |\\verb|=| \\left(\\begin{array}{rr}\n",
       "1.00000000000000 & 0.000000000000000 \\\\\n",
       "-0.100000000000000 & 1.00000000000000\n",
       "\\end{array}\\right)$"
      ],
      "text/plain": [
       "'Id - gamma*A = ' [  1.00000000000000  0.000000000000000]\n",
       "[-0.100000000000000   1.00000000000000]"
      ]
     },
     "metadata": {},
     "output_type": "display_data"
    },
    {
     "data": {
      "text/html": [
       "<html>\\(\\displaystyle \\verb|Id|\\verb| |\\verb|-|\\verb| |\\verb|gammaA|\\verb| |\\verb|==|\\verb| |\\verb|J?:| \\mathrm{True}\\)</html>"
      ],
      "text/latex": [
       "$\\displaystyle \\verb|Id|\\verb| |\\verb|-|\\verb| |\\verb|gammaA|\\verb| |\\verb|==|\\verb| |\\verb|J?:| \\mathrm{True}$"
      ],
      "text/plain": [
       "'Id - gammaA == J?: ' True"
      ]
     },
     "metadata": {},
     "output_type": "display_data"
    },
    {
     "data": {
      "text/html": [
       "<html>\\(\\displaystyle \\verb|yosA|\\verb| |\\verb|=| \\left(\\begin{array}{rr}\n",
       "0.000000000000000 & 0.000000000000000 \\\\\n",
       "1.00000000000000 & 0.000000000000000\n",
       "\\end{array}\\right)\\)</html>"
      ],
      "text/latex": [
       "$\\displaystyle \\verb|yosA|\\verb| |\\verb|=| \\left(\\begin{array}{rr}\n",
       "0.000000000000000 & 0.000000000000000 \\\\\n",
       "1.00000000000000 & 0.000000000000000\n",
       "\\end{array}\\right)$"
      ],
      "text/plain": [
       "'yosA = ' [0.000000000000000 0.000000000000000]\n",
       "[ 1.00000000000000 0.000000000000000]"
      ]
     },
     "metadata": {},
     "output_type": "display_data"
    },
    {
     "data": {
      "text/html": [
       "<html>\\(\\displaystyle \\verb|B_p|\\verb| |\\verb|=| \\left(\\begin{array}{rr}\n",
       "1 & 0 \\\\\n",
       "0 & 0\n",
       "\\end{array}\\right)\\)</html>"
      ],
      "text/latex": [
       "$\\displaystyle \\verb|B_p|\\verb| |\\verb|=| \\left(\\begin{array}{rr}\n",
       "1 & 0 \\\\\n",
       "0 & 0\n",
       "\\end{array}\\right)$"
      ],
      "text/plain": [
       "'B_p = ' [1 0]\n",
       "[0 0]"
      ]
     },
     "metadata": {},
     "output_type": "display_data"
    }
   ],
   "source": [
    "%display latex\n",
    "\n",
    "A = matrix([[0, 0], [1, 0]]); show('A = ', A)\n",
    "J = (matrix.identity(2) + gamma*A).inverse(); show('J = ', J)   #Resolvent\n",
    "backA = (matrix.identity(2) - gamma*A); show('Id - gamma*A = ', backA)\n",
    "show('Id - gammaA == J?: ', matrix.identity(2) - gamma*A == J )\n",
    "yosA = 1/gamma*(matrix.identity(2) - J); show('yosA = ', yosA)\n",
    "B_p = matrix([[1, 0], [0, 0]]); show('B_p = ', B_p)\n",
    "B_q = matrix([[0, 0], [0, 1]])"
   ]
  },
  {
   "cell_type": "code",
   "execution_count": 35,
   "metadata": {
    "tags": []
   },
   "outputs": [],
   "source": [
    "a = 2.0\n",
    "factor = 1.0\n",
    "C = Polyhedron(vertices = [[+factor*a,  0], [+factor*a, +a], [-factor*a, +a], [-factor*a,  0]])"
   ]
  },
  {
   "cell_type": "code",
   "execution_count": 36,
   "metadata": {
    "tags": []
   },
   "outputs": [
    {
     "data": {
      "image/png": "[encoded data removed]",
      "text/plain": [
       "A 1-dimensional polyhedron in RDF^2 defined as the convex hull of 2 vertices"
      ]
     },
     "execution_count": 36,
     "metadata": {},
     "output_type": "execute_result"
    }
   ],
   "source": [
    "mu = 1.0           # 0.1, 0.3, 1.0, 2.0\n",
    "P = Polyhedron(vertices = [[-mu, 0], [+mu, 0]])\n",
    "gammaP = gamma*P\n",
    "gammaP"
   ]
  },
  {
   "cell_type": "code",
   "execution_count": 37,
   "metadata": {
    "tags": []
   },
   "outputs": [
    {
     "data": {
      "image/png": "[encoded data removed]",
      "text/plain": [
       "A 1-dimensional polyhedron in RDF^2 defined as the convex hull of 2 vertices"
      ]
     },
     "execution_count": 37,
     "metadata": {},
     "output_type": "execute_result"
    }
   ],
   "source": [
    "nu = 0.2\n",
    "Q = Polyhedron(vertices = [[0, -nu], [0, +nu]])\n",
    "gammaQ = gamma*Q\n",
    "gammaQ"
   ]
  },
  {
   "cell_type": "code",
   "execution_count": 38,
   "metadata": {
    "tags": []
   },
   "outputs": [
    {
     "data": {
      "image/png": "[encoded data removed]",
      "text/plain": [
       "A 1-dimensional polyhedron in RDF^2 defined as the convex hull of 2 vertices"
      ]
     },
     "execution_count": 38,
     "metadata": {},
     "output_type": "execute_result"
    }
   ],
   "source": [
    "gammaP.minkowski_difference(gammaQ)"
   ]
  },
  {
   "cell_type": "code",
   "execution_count": 79,
   "metadata": {
    "tags": []
   },
   "outputs": [],
   "source": [
    "def exact(C0, P, Q = Polyhedron, N = int, J = matrix):\n",
    "    \"\"\"\n",
    "    Calculate the \"exact\" viable polyhedra of a system dx/dt = Ax + Bp\n",
    "    \n",
    "    C0     : Sage Polydedra of same dimension, P is the discretised approximation\n",
    "    gammaP :\n",
    "    gammaQ :\n",
    "    N      : Positive integer\n",
    "    J      : Resolvent\n",
    "    \"\"\"\n",
    "    C, n = C0, 0\n",
    "    while n <= N:\n",
    "        print(n, end = ' ')\n",
    "        if C.is_empty():\n",
    "            break\n",
    "        Cp = C.minkowski_sum(P).minkowski_difference(Q).linear_transformation(J).intersection(C)\n",
    "        if Cp == C:\n",
    "            break\n",
    "        else:\n",
    "            C = Cp\n",
    "            n += 1\n",
    "    print('')\n",
    "    return(C)"
   ]
  },
  {
   "cell_type": "code",
   "execution_count": 80,
   "metadata": {
    "tags": []
   },
   "outputs": [
    {
     "name": "stdout",
     "output_type": "stream",
     "text": [
      "0 1 2 3 4 5 6 7 8 9 10 11 12 13 14 15 16 17 18 19 20 21 \n"
     ]
    },
    {
     "data": {
      "image/png": "[encoded data removed]",
      "text/plain": [
       "A 2-dimensional polyhedron in RDF^2 defined as the convex hull of 43 vertices"
      ]
     },
     "execution_count": 80,
     "metadata": {},
     "output_type": "execute_result"
    }
   ],
   "source": [
    "exact(C, gammaP, gammaQ, 50, Ainv)"
   ]
  },
  {
   "cell_type": "code",
   "execution_count": 69,
   "metadata": {
    "tags": []
   },
   "outputs": [],
   "source": [
    "def exact(C0 = Polyhedron, P = Polyhedron, Q = Polyhedron, N = int, J = matrix):\n",
    "    \"\"\"\n",
    "    Calculate the \"exact\" viable polyhedra of a system dx/dt = Ax + Bp\n",
    "    \n",
    "    C0     : Sage Polydedra of same dimension, P is the discretised approximation\n",
    "    gammaP :\n",
    "    gammaQ :\n",
    "    N      : Positive integer\n",
    "    J      : Resolvent\n",
    "    \"\"\"\n",
    "    C, n = C0, 0\n",
    "    while n <= N:\n",
    "        print(n, end = ' ')\n",
    "        if C.is_empty():\n",
    "            break\n",
    "        Cp = C.linear_transformation(J).minkowski_sum(P).minkowski_difference(Q).intersection(C)\n",
    "        if Cp == C:\n",
    "            break\n",
    "        else:\n",
    "            C = Cp\n",
    "            n += 1\n",
    "    print('')\n",
    "    return(C)"
   ]
  },
  {
   "cell_type": "code",
   "execution_count": 71,
   "metadata": {
    "tags": []
   },
   "outputs": [
    {
     "name": "stdout",
     "output_type": "stream",
     "text": [
      "0 1 2 3 4 5 6 7 "
     ]
    },
    {
     "name": "stderr",
     "output_type": "stream",
     "text": [
      "/private/var/tmp/sage-9.7-current/local/var/lib/sage/venv-python3.10.5/lib/python3.10/site-packages/sage/geometry/polyhedron/backend_cdd_rdf.py:171: UserWarning: This polyhedron data is numerically complicated; cdd could not convert between the inexact V and H representation without loss of data. The resulting object might show inconsistencies.\n",
      "  warn(\"This polyhedron data is numerically complicated; cdd could not convert between the inexact V and H representation without loss of data. The resulting object might show inconsistencies.\")\n"
     ]
    },
    {
     "name": "stdout",
     "output_type": "stream",
     "text": [
      "\n"
     ]
    },
    {
     "data": {
      "image/png": "[encoded data removed]",
      "text/plain": [
       "A 2-dimensional polyhedron in RDF^2 defined as the convex hull of 18 vertices"
      ]
     },
     "execution_count": 71,
     "metadata": {},
     "output_type": "execute_result"
    }
   ],
   "source": [
    "exact(C, gammaP, gammaQ, 7, J)"
   ]
  },
  {
   "cell_type": "code",
   "execution_count": 106,
   "metadata": {},
   "outputs": [
    {
     "name": "stdout",
     "output_type": "stream",
     "text": [
      "Requirement already satisfied: memory_profiler in /Users/sigifredo/anaconda3/envs/sage/lib/python3.9/site-packages (0.61.0)\n",
      "Requirement already satisfied: psutil in /Users/sigifredo/anaconda3/envs/sage/lib/python3.9/site-packages (from memory_profiler) (5.9.5)\n"
     ]
    }
   ],
   "source": [
    "!pip install memory_profiler"
   ]
  },
  {
   "cell_type": "code",
   "execution_count": null,
   "metadata": {},
   "outputs": [],
   "source": []
  },
  {
   "cell_type": "code",
   "execution_count": 107,
   "metadata": {},
   "outputs": [
    {
     "name": "stdout",
     "output_type": "stream",
     "text": [
      "Memory (Before): [330.59375]MB\n",
      "0 1 2 3 4 5 "
     ]
    },
    {
     "name": "stderr",
     "output_type": "stream",
     "text": [
      "/Users/sigifredo/anaconda3/envs/sage/lib/python3.9/site-packages/sage/geometry/polyhedron/backend_cdd.py:153: UserWarning: This polyhedron data is numerically complicated; cdd could not convert between the inexact V and H representation without loss of data. The resulting object might show inconsistencies.\n",
      "  warn(\"This polyhedron data is numerically complicated; cdd could not convert between the inexact V and H representation without loss of data. The resulting object might show inconsistencies.\")\n",
      "/Users/sigifredo/anaconda3/envs/sage/lib/python3.9/site-packages/sage/geometry/polyhedron/backend_cdd.py:153: UserWarning: This polyhedron data is numerically complicated; cdd could not convert between the inexact V and H representation without loss of data. The resulting object might show inconsistencies.\n",
      "  warn(\"This polyhedron data is numerically complicated; cdd could not convert between the inexact V and H representation without loss of data. The resulting object might show inconsistencies.\")\n"
     ]
    },
    {
     "name": "stdout",
     "output_type": "stream",
     "text": [
      "6 7 "
     ]
    },
    {
     "name": "stderr",
     "output_type": "stream",
     "text": [
      "/Users/sigifredo/anaconda3/envs/sage/lib/python3.9/site-packages/sage/geometry/polyhedron/backend_cdd.py:153: UserWarning: This polyhedron data is numerically complicated; cdd could not convert between the inexact V and H representation without loss of data. The resulting object might show inconsistencies.\n",
      "  warn(\"This polyhedron data is numerically complicated; cdd could not convert between the inexact V and H representation without loss of data. The resulting object might show inconsistencies.\")\n",
      "/Users/sigifredo/anaconda3/envs/sage/lib/python3.9/site-packages/sage/geometry/polyhedron/backend_cdd.py:153: UserWarning: This polyhedron data is numerically complicated; cdd could not convert between the inexact V and H representation without loss of data. The resulting object might show inconsistencies.\n",
      "  warn(\"This polyhedron data is numerically complicated; cdd could not convert between the inexact V and H representation without loss of data. The resulting object might show inconsistencies.\")\n"
     ]
    },
    {
     "name": "stdout",
     "output_type": "stream",
     "text": [
      "8 9 "
     ]
    },
    {
     "name": "stderr",
     "output_type": "stream",
     "text": [
      "/Users/sigifredo/anaconda3/envs/sage/lib/python3.9/site-packages/sage/geometry/polyhedron/backend_cdd.py:153: UserWarning: This polyhedron data is numerically complicated; cdd could not convert between the inexact V and H representation without loss of data. The resulting object might show inconsistencies.\n",
      "  warn(\"This polyhedron data is numerically complicated; cdd could not convert between the inexact V and H representation without loss of data. The resulting object might show inconsistencies.\")\n",
      "/Users/sigifredo/anaconda3/envs/sage/lib/python3.9/site-packages/sage/geometry/polyhedron/backend_cdd.py:153: UserWarning: This polyhedron data is numerically complicated; cdd could not convert between the inexact V and H representation without loss of data. The resulting object might show inconsistencies.\n",
      "  warn(\"This polyhedron data is numerically complicated; cdd could not convert between the inexact V and H representation without loss of data. The resulting object might show inconsistencies.\")\n"
     ]
    },
    {
     "name": "stdout",
     "output_type": "stream",
     "text": [
      "10 11 "
     ]
    },
    {
     "name": "stderr",
     "output_type": "stream",
     "text": [
      "/Users/sigifredo/anaconda3/envs/sage/lib/python3.9/site-packages/sage/geometry/polyhedron/backend_cdd.py:153: UserWarning: This polyhedron data is numerically complicated; cdd could not convert between the inexact V and H representation without loss of data. The resulting object might show inconsistencies.\n",
      "  warn(\"This polyhedron data is numerically complicated; cdd could not convert between the inexact V and H representation without loss of data. The resulting object might show inconsistencies.\")\n",
      "/Users/sigifredo/anaconda3/envs/sage/lib/python3.9/site-packages/sage/geometry/polyhedron/backend_cdd.py:153: UserWarning: This polyhedron data is numerically complicated; cdd could not convert between the inexact V and H representation without loss of data. The resulting object might show inconsistencies.\n",
      "  warn(\"This polyhedron data is numerically complicated; cdd could not convert between the inexact V and H representation without loss of data. The resulting object might show inconsistencies.\")\n"
     ]
    },
    {
     "name": "stdout",
     "output_type": "stream",
     "text": [
      "12 13 "
     ]
    },
    {
     "name": "stderr",
     "output_type": "stream",
     "text": [
      "/Users/sigifredo/anaconda3/envs/sage/lib/python3.9/site-packages/sage/geometry/polyhedron/backend_cdd.py:153: UserWarning: This polyhedron data is numerically complicated; cdd could not convert between the inexact V and H representation without loss of data. The resulting object might show inconsistencies.\n",
      "  warn(\"This polyhedron data is numerically complicated; cdd could not convert between the inexact V and H representation without loss of data. The resulting object might show inconsistencies.\")\n"
     ]
    },
    {
     "name": "stdout",
     "output_type": "stream",
     "text": [
      "14 "
     ]
    },
    {
     "name": "stderr",
     "output_type": "stream",
     "text": [
      "/Users/sigifredo/anaconda3/envs/sage/lib/python3.9/site-packages/sage/geometry/polyhedron/backend_cdd.py:153: UserWarning: This polyhedron data is numerically complicated; cdd could not convert between the inexact V and H representation without loss of data. The resulting object might show inconsistencies.\n",
      "  warn(\"This polyhedron data is numerically complicated; cdd could not convert between the inexact V and H representation without loss of data. The resulting object might show inconsistencies.\")\n"
     ]
    },
    {
     "name": "stdout",
     "output_type": "stream",
     "text": [
      "15 "
     ]
    },
    {
     "name": "stderr",
     "output_type": "stream",
     "text": [
      "/Users/sigifredo/anaconda3/envs/sage/lib/python3.9/site-packages/sage/geometry/polyhedron/backend_cdd.py:153: UserWarning: This polyhedron data is numerically complicated; cdd could not convert between the inexact V and H representation without loss of data. The resulting object might show inconsistencies.\n",
      "  warn(\"This polyhedron data is numerically complicated; cdd could not convert between the inexact V and H representation without loss of data. The resulting object might show inconsistencies.\")\n"
     ]
    },
    {
     "name": "stdout",
     "output_type": "stream",
     "text": [
      "16 "
     ]
    },
    {
     "name": "stderr",
     "output_type": "stream",
     "text": [
      "/Users/sigifredo/anaconda3/envs/sage/lib/python3.9/site-packages/sage/geometry/polyhedron/backend_cdd.py:153: UserWarning: This polyhedron data is numerically complicated; cdd could not convert between the inexact V and H representation without loss of data. The resulting object might show inconsistencies.\n",
      "  warn(\"This polyhedron data is numerically complicated; cdd could not convert between the inexact V and H representation without loss of data. The resulting object might show inconsistencies.\")\n"
     ]
    },
    {
     "name": "stdout",
     "output_type": "stream",
     "text": [
      "17 18 "
     ]
    },
    {
     "name": "stderr",
     "output_type": "stream",
     "text": [
      "/Users/sigifredo/anaconda3/envs/sage/lib/python3.9/site-packages/sage/geometry/polyhedron/backend_cdd.py:153: UserWarning: This polyhedron data is numerically complicated; cdd could not convert between the inexact V and H representation without loss of data. The resulting object might show inconsistencies.\n",
      "  warn(\"This polyhedron data is numerically complicated; cdd could not convert between the inexact V and H representation without loss of data. The resulting object might show inconsistencies.\")\n",
      "/Users/sigifredo/anaconda3/envs/sage/lib/python3.9/site-packages/sage/geometry/polyhedron/backend_cdd.py:153: UserWarning: This polyhedron data is numerically complicated; cdd could not convert between the inexact V and H representation without loss of data. The resulting object might show inconsistencies.\n",
      "  warn(\"This polyhedron data is numerically complicated; cdd could not convert between the inexact V and H representation without loss of data. The resulting object might show inconsistencies.\")\n"
     ]
    },
    {
     "name": "stdout",
     "output_type": "stream",
     "text": [
      "19 "
     ]
    },
    {
     "name": "stderr",
     "output_type": "stream",
     "text": [
      "/Users/sigifredo/anaconda3/envs/sage/lib/python3.9/site-packages/sage/geometry/polyhedron/backend_cdd.py:153: UserWarning: This polyhedron data is numerically complicated; cdd could not convert between the inexact V and H representation without loss of data. The resulting object might show inconsistencies.\n",
      "  warn(\"This polyhedron data is numerically complicated; cdd could not convert between the inexact V and H representation without loss of data. The resulting object might show inconsistencies.\")\n"
     ]
    },
    {
     "name": "stdout",
     "output_type": "stream",
     "text": [
      "20 "
     ]
    },
    {
     "name": "stderr",
     "output_type": "stream",
     "text": [
      "/Users/sigifredo/anaconda3/envs/sage/lib/python3.9/site-packages/sage/geometry/polyhedron/backend_cdd.py:153: UserWarning: This polyhedron data is numerically complicated; cdd could not convert between the inexact V and H representation without loss of data. The resulting object might show inconsistencies.\n",
      "  warn(\"This polyhedron data is numerically complicated; cdd could not convert between the inexact V and H representation without loss of data. The resulting object might show inconsistencies.\")\n"
     ]
    },
    {
     "name": "stdout",
     "output_type": "stream",
     "text": [
      "21 "
     ]
    },
    {
     "name": "stderr",
     "output_type": "stream",
     "text": [
      "/Users/sigifredo/anaconda3/envs/sage/lib/python3.9/site-packages/sage/geometry/polyhedron/backend_cdd.py:153: UserWarning: This polyhedron data is numerically complicated; cdd could not convert between the inexact V and H representation without loss of data. The resulting object might show inconsistencies.\n",
      "  warn(\"This polyhedron data is numerically complicated; cdd could not convert between the inexact V and H representation without loss of data. The resulting object might show inconsistencies.\")\n"
     ]
    },
    {
     "name": "stdout",
     "output_type": "stream",
     "text": [
      "22 23 24 "
     ]
    },
    {
     "name": "stderr",
     "output_type": "stream",
     "text": [
      "/Users/sigifredo/anaconda3/envs/sage/lib/python3.9/site-packages/sage/geometry/polyhedron/backend_cdd.py:153: UserWarning: This polyhedron data is numerically complicated; cdd could not convert between the inexact V and H representation without loss of data. The resulting object might show inconsistencies.\n",
      "  warn(\"This polyhedron data is numerically complicated; cdd could not convert between the inexact V and H representation without loss of data. The resulting object might show inconsistencies.\")\n"
     ]
    },
    {
     "name": "stdout",
     "output_type": "stream",
     "text": [
      "25 "
     ]
    },
    {
     "name": "stderr",
     "output_type": "stream",
     "text": [
      "/Users/sigifredo/anaconda3/envs/sage/lib/python3.9/site-packages/sage/geometry/polyhedron/backend_cdd.py:153: UserWarning: This polyhedron data is numerically complicated; cdd could not convert between the inexact V and H representation without loss of data. The resulting object might show inconsistencies.\n",
      "  warn(\"This polyhedron data is numerically complicated; cdd could not convert between the inexact V and H representation without loss of data. The resulting object might show inconsistencies.\")\n"
     ]
    },
    {
     "name": "stdout",
     "output_type": "stream",
     "text": [
      "26 \n",
      "Memory (After) : [330.59375]MB\n",
      "Took 2.501897999999983 Seconds\n"
     ]
    },
    {
     "name": "stderr",
     "output_type": "stream",
     "text": [
      "/Users/sigifredo/anaconda3/envs/sage/lib/python3.9/site-packages/sage/geometry/polyhedron/backend_cdd.py:153: UserWarning: This polyhedron data is numerically complicated; cdd could not convert between the inexact V and H representation without loss of data. The resulting object might show inconsistencies.\n",
      "  warn(\"This polyhedron data is numerically complicated; cdd could not convert between the inexact V and H representation without loss of data. The resulting object might show inconsistencies.\")\n"
     ]
    }
   ],
   "source": [
    "import memory_profiler as mem_profile\n",
    "import time\n",
    "\n",
    "print('Memory (Before): ' + str(mem_profile.memory_usage()) + 'MB' )\n",
    "\n",
    "t1 = time.process_time()\n",
    "exact(C, gammaP, gammaQ, 200, J)\n",
    "t2 = time.process_time()\n",
    "\n",
    "print('Memory (After) : ' + str(mem_profile.memory_usage()) + 'MB')\n",
    "print ('Took ' + str(t2 - t1) + ' Seconds')"
   ]
  },
  {
   "cell_type": "code",
   "execution_count": 50,
   "metadata": {},
   "outputs": [
    {
     "name": "stdout",
     "output_type": "stream",
     "text": [
      "0 1 2 3 4 5 6 7 8 9 10 11 12 13 14 \n"
     ]
    },
    {
     "name": "stderr",
     "output_type": "stream",
     "text": [
      "/Users/sigifredo/anaconda3/envs/sage/lib/python3.9/site-packages/sage/geometry/polyhedron/base6.py:616: DeprecationWarning: The default type of the returned object will soon be changed from `sage.misc.latex.LatexExpr` to `sage.misc.latex_standalone.TikzPicture`.  Please update your code to specify the desired output type as `.tikz(output_type='LatexExpr')` to keep the old behavior or `.tikz(output_type='TikzPicture')` to use the future default behavior.\n",
      "See https://github.com/sagemath/sage/issues/33002 for details.\n",
      "  return self.projection().tikz(view, angle, scale,\n"
     ]
    },
    {
     "data": {
      "text/plain": [
       "\\begin{tikzpicture}%\n",
       "\t[scale=1.000000,\n",
       "\tback/.style={loosely dotted, thin},\n",
       "\tedge/.style={color=blue!95!black, thick},\n",
       "\tfacet/.style={fill=blue!95!black,fill opacity=0.800000},\n",
       "\tvertex/.style={inner sep=1pt,circle,draw=green!25!black,fill=green!75!black,thick}]\n",
       "%\n",
       "%\n",
       "%% This TikZ-picture was produced with Sagemath version 10.2\n",
       "%% with the command: ._tikz_2d and parameters:\n",
       "%% scale = 1\n",
       "%% edge_color = blue!95!black\n",
       "%% facet_color = blue!95!black\n",
       "%% opacity = 0.8\n",
       "%% vertex_color = green\n",
       "%% axis = False\n",
       "%%\n",
       "%% Coordinate of the vertices:\n",
       "%%\n",
       "\\coordinate (0.20000, 0.94000) at (0.20000, 0.94000);\n",
       "\\coordinate (0.40000, 0.85000) at (0.40000, 0.85000);\n",
       "\\coordinate (0.60000, 0.72000) at (0.60000, 0.72000);\n",
       "\\coordinate (0.70000, 0.64000) at (0.70000, 0.64000);\n",
       "\\coordinate (0.80000, 0.55000) at (0.80000, 0.55000);\n",
       "\\coordinate (0.90000, 0.45000) at (0.90000, 0.45000);\n",
       "\\coordinate (-1.10000, 0.78000) at (-1.10000, 0.78000);\n",
       "\\coordinate (-0.90000, 0.55000) at (-0.90000, 0.55000);\n",
       "\\coordinate (-0.70000, 0.36000) at (-0.70000, 0.36000);\n",
       "\\coordinate (-0.50000, 0.21000) at (-0.50000, 0.21000);\n",
       "\\coordinate (-0.30000, 0.10000) at (-0.30000, 0.10000);\n",
       "\\coordinate (-0.10000, 0.03000) at (-0.10000, 0.03000);\n",
       "\\coordinate (0.10000, 0.00000) at (0.10000, 0.00000);\n",
       "\\coordinate (0.00000, 0.01000) at (0.00000, 0.01000);\n",
       "\\coordinate (-0.20000, 0.06000) at (-0.20000, 0.06000);\n",
       "\\coordinate (-0.40000, 0.15000) at (-0.40000, 0.15000);\n",
       "\\coordinate (-0.60000, 0.28000) at (-0.60000, 0.28000);\n",
       "\\coordinate (-0.80000, 0.45000) at (-0.80000, 0.45000);\n",
       "\\coordinate (-1.00000, 0.66000) at (-1.00000, 0.66000);\n",
       "\\coordinate (-1.20000, 0.91005) at (-1.20000, 0.91005);\n",
       "\\coordinate (-1.26427, 1.00000) at (-1.26427, 1.00000);\n",
       "\\coordinate (-0.10000, 1.00000) at (-0.10000, 1.00000);\n",
       "\\coordinate (1.00000, 0.34000) at (1.00000, 0.34000);\n",
       "\\coordinate (1.10000, 0.21995) at (1.10000, 0.21995);\n",
       "\\coordinate (1.26430, 0.00000) at (1.26430, 0.00000);\n",
       "\\coordinate (1.20000, 0.09005) at (1.20000, 0.09005);\n",
       "\\coordinate (0.50000, 0.79000) at (0.50000, 0.79000);\n",
       "\\coordinate (0.30000, 0.90000) at (0.30000, 0.90000);\n",
       "\\coordinate (0.00000, 0.99000) at (0.00000, 0.99000);\n",
       "\\coordinate (0.10000, 0.97000) at (0.10000, 0.97000);\n",
       "%%\n",
       "%%\n",
       "%% Drawing the interior\n",
       "%%\n",
       "\\fill[facet] (0.10000, 0.97000) -- (0.20000, 0.94000) -- (0.30000, 0.90000) -- (0.40000, 0.85000) -- (0.50000, 0.79000) -- (0.60000, 0.72000) -- (0.70000, 0.64000) -- (0.80000, 0.55000) -- (0.90000, 0.45000) -- (1.00000, 0.34000) -- (1.10000, 0.21995) -- (1.20000, 0.09005) -- (1.26430, 0.00000) -- (0.10000, 0.00000) -- (0.00000, 0.01000) -- (-0.10000, 0.03000) -- (-0.20000, 0.06000) -- (-0.30000, 0.10000) -- (-0.40000, 0.15000) -- (-0.50000, 0.21000) -- (-0.60000, 0.28000) -- (-0.70000, 0.36000) -- (-0.80000, 0.45000) -- (-0.90000, 0.55000) -- (-1.00000, 0.66000) -- (-1.10000, 0.78000) -- (-1.20000, 0.91005) -- (-1.26427, 1.00000) -- (-0.10000, 1.00000) -- (0.00000, 0.99000) -- cycle {};\n",
       "%%\n",
       "%%\n",
       "%% Drawing edges\n",
       "%%\n",
       "\\draw[edge] (0.20000, 0.94000) -- (0.30000, 0.90000);\n",
       "\\draw[edge] (0.20000, 0.94000) -- (0.10000, 0.97000);\n",
       "\\draw[edge] (0.40000, 0.85000) -- (0.50000, 0.79000);\n",
       "\\draw[edge] (0.40000, 0.85000) -- (0.30000, 0.90000);\n",
       "\\draw[edge] (0.60000, 0.72000) -- (0.70000, 0.64000);\n",
       "\\draw[edge] (0.60000, 0.72000) -- (0.50000, 0.79000);\n",
       "\\draw[edge] (0.70000, 0.64000) -- (0.80000, 0.55000);\n",
       "\\draw[edge] (0.80000, 0.55000) -- (0.90000, 0.45000);\n",
       "\\draw[edge] (0.90000, 0.45000) -- (1.00000, 0.34000);\n",
       "\\draw[edge] (-1.10000, 0.78000) -- (-1.00000, 0.66000);\n",
       "\\draw[edge] (-1.10000, 0.78000) -- (-1.20000, 0.91005);\n",
       "\\draw[edge] (-0.90000, 0.55000) -- (-0.80000, 0.45000);\n",
       "\\draw[edge] (-0.90000, 0.55000) -- (-1.00000, 0.66000);\n",
       "\\draw[edge] (-0.70000, 0.36000) -- (-0.60000, 0.28000);\n",
       "\\draw[edge] (-0.70000, 0.36000) -- (-0.80000, 0.45000);\n",
       "\\draw[edge] (-0.50000, 0.21000) -- (-0.40000, 0.15000);\n",
       "\\draw[edge] (-0.50000, 0.21000) -- (-0.60000, 0.28000);\n",
       "\\draw[edge] (-0.30000, 0.10000) -- (-0.20000, 0.06000);\n",
       "\\draw[edge] (-0.30000, 0.10000) -- (-0.40000, 0.15000);\n",
       "\\draw[edge] (-0.10000, 0.03000) -- (0.00000, 0.01000);\n",
       "\\draw[edge] (-0.10000, 0.03000) -- (-0.20000, 0.06000);\n",
       "\\draw[edge] (0.10000, 0.00000) -- (0.00000, 0.01000);\n",
       "\\draw[edge] (0.10000, 0.00000) -- (1.26430, 0.00000);\n",
       "\\draw[edge] (-1.20000, 0.91005) -- (-1.26427, 1.00000);\n",
       "\\draw[edge] (-1.26427, 1.00000) -- (-0.10000, 1.00000);\n",
       "\\draw[edge] (-0.10000, 1.00000) -- (0.00000, 0.99000);\n",
       "\\draw[edge] (1.00000, 0.34000) -- (1.10000, 0.21995);\n",
       "\\draw[edge] (1.10000, 0.21995) -- (1.20000, 0.09005);\n",
       "\\draw[edge] (1.26430, 0.00000) -- (1.20000, 0.09005);\n",
       "\\draw[edge] (0.00000, 0.99000) -- (0.10000, 0.97000);\n",
       "%%\n",
       "%%\n",
       "%% Drawing the vertices\n",
       "%%\n",
       "\\node[vertex] at (0.20000, 0.94000)     {};\n",
       "\\node[vertex] at (0.40000, 0.85000)     {};\n",
       "\\node[vertex] at (0.60000, 0.72000)     {};\n",
       "\\node[vertex] at (0.70000, 0.64000)     {};\n",
       "\\node[vertex] at (0.80000, 0.55000)     {};\n",
       "\\node[vertex] at (0.90000, 0.45000)     {};\n",
       "\\node[vertex] at (-1.10000, 0.78000)     {};\n",
       "\\node[vertex] at (-0.90000, 0.55000)     {};\n",
       "\\node[vertex] at (-0.70000, 0.36000)     {};\n",
       "\\node[vertex] at (-0.50000, 0.21000)     {};\n",
       "\\node[vertex] at (-0.30000, 0.10000)     {};\n",
       "\\node[vertex] at (-0.10000, 0.03000)     {};\n",
       "\\node[vertex] at (0.10000, 0.00000)     {};\n",
       "\\node[vertex] at (0.00000, 0.01000)     {};\n",
       "\\node[vertex] at (-0.20000, 0.06000)     {};\n",
       "\\node[vertex] at (-0.40000, 0.15000)     {};\n",
       "\\node[vertex] at (-0.60000, 0.28000)     {};\n",
       "\\node[vertex] at (-0.80000, 0.45000)     {};\n",
       "\\node[vertex] at (-1.00000, 0.66000)     {};\n",
       "\\node[vertex] at (-1.20000, 0.91005)     {};\n",
       "\\node[vertex] at (-1.26427, 1.00000)     {};\n",
       "\\node[vertex] at (-0.10000, 1.00000)     {};\n",
       "\\node[vertex] at (1.00000, 0.34000)     {};\n",
       "\\node[vertex] at (1.10000, 0.21995)     {};\n",
       "\\node[vertex] at (1.26430, 0.00000)     {};\n",
       "\\node[vertex] at (1.20000, 0.09005)     {};\n",
       "\\node[vertex] at (0.50000, 0.79000)     {};\n",
       "\\node[vertex] at (0.30000, 0.90000)     {};\n",
       "\\node[vertex] at (0.00000, 0.99000)     {};\n",
       "\\node[vertex] at (0.10000, 0.97000)     {};\n",
       "%%\n",
       "%%\n",
       "\\end{tikzpicture}"
      ]
     },
     "execution_count": 50,
     "metadata": {},
     "output_type": "execute_result"
    }
   ],
   "source": [
    "exact(C, gammaP, gammaQ, 14, J).tikz()"
   ]
  },
  {
   "cell_type": "markdown",
   "metadata": {},
   "source": [
    "### Algebraic ###"
   ]
  },
  {
   "cell_type": "code",
   "execution_count": 140,
   "metadata": {},
   "outputs": [],
   "source": [
    "x, y, mu, nu, a = var('x, y, mu, nu, a')\n",
    "g_2 = (mu*a - 1/2*(x + nu)**2)/mu - y\n",
    "g_4 = 1/2*(x - nu)**2/mu - y"
   ]
  },
  {
   "cell_type": "code",
   "execution_count": 144,
   "metadata": {},
   "outputs": [
    {
     "data": {
      "image/png": "[encoded data removed]",
      "text/plain": [
       "Graphics object consisting of 3 graphics primitives"
      ]
     },
     "execution_count": 144,
     "metadata": {},
     "output_type": "execute_result"
    }
   ],
   "source": [
    "#subs_y, subs_a, subs_mu, subs_nu = 0.0, 1.0, 4.0, 1.0\n",
    "subs_y, subs_a, subs_mu, subs_nu = 0.0, 2.0, 1.0, 0.2\n",
    "plot(g_2.subs(y = subs_y).subs(a = subs_a).subs(mu = subs_mu).subs(nu = subs_nu), (x, -2, 2)) + plot(g_4.subs(y = subs_y).subs(a = subs_a).subs(mu = subs_mu).subs(nu = subs_nu), (x, -2, 2), color = 'red') + plot(subs_a, (x, -2, 2), color = 'green')"
   ]
  },
  {
   "cell_type": "code",
   "execution_count": 20,
   "metadata": {},
   "outputs": [
    {
     "data": {
      "text/plain": [
       "-y + 1/2*(2*a*mu - (nu + x)^2)/mu"
      ]
     },
     "execution_count": 20,
     "metadata": {},
     "output_type": "execute_result"
    }
   ],
   "source": [
    "from sympy import init_printing\n",
    "init_printing()\n",
    "\n",
    "g_2"
   ]
  },
  {
   "cell_type": "markdown",
   "metadata": {},
   "source": [
    "$g_2(x,y)\\doteq \\frac{1}{2}(x+\\nu)^2+\\mu y-a\\mu$"
   ]
  },
  {
   "cell_type": "code",
   "execution_count": 21,
   "metadata": {},
   "outputs": [
    {
     "data": {
      "text/html": [
       "<html>\\(\\displaystyle \\frac{2 \\, a \\mu - \\nu^{2} - 2 \\, \\nu x - x^{2}}{2 \\, \\mu}\\)</html>"
      ],
      "text/latex": [
       "$\\displaystyle \\frac{2 \\, a \\mu - \\nu^{2} - 2 \\, \\nu x - x^{2}}{2 \\, \\mu}$"
      ],
      "text/plain": [
       "1/2*(2*a*mu - nu^2 - 2*nu*x - x^2)/mu"
      ]
     },
     "metadata": {},
     "output_type": "display_data"
    }
   ],
   "source": [
    "y_2 = solve(g_2, y)[0].rhs()\n",
    "pretty_print(y_2)"
   ]
  },
  {
   "cell_type": "code",
   "execution_count": 22,
   "metadata": {},
   "outputs": [
    {
     "ename": "SyntaxError",
     "evalue": "invalid decimal literal (1544862488.py, line 1)",
     "output_type": "error",
     "traceback": [
      "\u001b[0;36m  File \u001b[0;32m\"/var/folders/1v/6_qv_g1x7vbc29gh1s9h3r6c0000gn/T/ipykernel_7211/1544862488.py\"\u001b[0;36m, line \u001b[0;32m1\u001b[0m\n\u001b[0;31m    $ * BackslashOperator() * int_{- * BackslashOperator() * nu}**{ * BackslashOperator() * sqrt{2a * BackslashOperator() * mu}- * BackslashOperator() * nu}g_2()$\u001b[0m\n\u001b[0m                                                                                                 ^\u001b[0m\n\u001b[0;31mSyntaxError\u001b[0m\u001b[0;31m:\u001b[0m invalid decimal literal\n"
     ]
    }
   ],
   "source": [
    "$\\int_{-\\nu}^{\\sqrt{2a\\mu}-\\nu}g_2()$"
   ]
  },
  {
   "cell_type": "code",
   "execution_count": 23,
   "metadata": {},
   "outputs": [
    {
     "data": {
      "text/html": [
       "<html>\\(\\displaystyle \\frac{2}{3} \\, \\sqrt{2} \\sqrt{a \\mu} a\\)</html>"
      ],
      "text/latex": [
       "$\\displaystyle \\frac{2}{3} \\, \\sqrt{2} \\sqrt{a \\mu} a$"
      ],
      "text/plain": [
       "2/3*sqrt(2)*sqrt(a*mu)*a"
      ]
     },
     "metadata": {},
     "output_type": "display_data"
    }
   ],
   "source": [
    "A_1 = y_2.integral(x, -nu, sqrt(2*a*mu) - nu).simplify()\n",
    "pretty_print(A_1)"
   ]
  },
  {
   "cell_type": "code",
   "execution_count": 24,
   "metadata": {},
   "outputs": [
    {
     "data": {
      "text/html": [
       "<html>\\(\\displaystyle {\\left(\\sqrt{2} \\sqrt{a \\mu} - 2 \\, \\nu\\right)} a\\)</html>"
      ],
      "text/latex": [
       "$\\displaystyle {\\left(\\sqrt{2} \\sqrt{a \\mu} - 2 \\, \\nu\\right)} a$"
      ],
      "text/plain": [
       "(sqrt(2)*sqrt(a*mu) - 2*nu)*a"
      ]
     },
     "metadata": {},
     "output_type": "display_data"
    }
   ],
   "source": [
    "A_2 = (a*(-nu - (-sqrt(2*a*mu) + nu))).simplify()\n",
    "pretty_print(A_2)"
   ]
  },
  {
   "cell_type": "code",
   "execution_count": 25,
   "metadata": {},
   "outputs": [
    {
     "data": {
      "text/html": [
       "<html>\\(\\displaystyle \\frac{\\nu^{2} - 2 \\, \\nu x + x^{2}}{2 \\, \\mu}\\)</html>"
      ],
      "text/latex": [
       "$\\displaystyle \\frac{\\nu^{2} - 2 \\, \\nu x + x^{2}}{2 \\, \\mu}$"
      ],
      "text/plain": [
       "1/2*(nu^2 - 2*nu*x + x^2)/mu"
      ]
     },
     "metadata": {},
     "output_type": "display_data"
    }
   ],
   "source": [
    "y_4 = solve(g_4, y)[0].rhs()\n",
    "pretty_print(y_4)"
   ]
  },
  {
   "cell_type": "code",
   "execution_count": 26,
   "metadata": {},
   "outputs": [
    {
     "data": {
      "text/html": [
       "<html>\\(\\displaystyle \\frac{1}{3} \\, \\sqrt{2} \\sqrt{a \\mu} a\\)</html>"
      ],
      "text/latex": [
       "$\\displaystyle \\frac{1}{3} \\, \\sqrt{2} \\sqrt{a \\mu} a$"
      ],
      "text/plain": [
       "1/3*sqrt(2)*sqrt(a*mu)*a"
      ]
     },
     "metadata": {},
     "output_type": "display_data"
    }
   ],
   "source": [
    "A_3 = y_4.integral(x, -sqrt(2*a*mu) + nu, +nu).simplify()\n",
    "pretty_print(A_3)"
   ]
  },
  {
   "cell_type": "code",
   "execution_count": 27,
   "metadata": {},
   "outputs": [
    {
     "data": {
      "text/html": [
       "<html>\\(\\displaystyle \\frac{1}{3} \\, \\sqrt{2} \\sqrt{a \\mu} a + {\\left(\\sqrt{2} \\sqrt{a \\mu} - 2 \\, \\nu\\right)} a\\)</html>"
      ],
      "text/latex": [
       "$\\displaystyle \\frac{1}{3} \\, \\sqrt{2} \\sqrt{a \\mu} a + {\\left(\\sqrt{2} \\sqrt{a \\mu} - 2 \\, \\nu\\right)} a$"
      ],
      "text/plain": [
       "1/3*sqrt(2)*sqrt(a*mu)*a + (sqrt(2)*sqrt(a*mu) - 2*nu)*a"
      ]
     },
     "metadata": {},
     "output_type": "display_data"
    }
   ],
   "source": [
    "pretty_print((A_1 +  A_2 - A_3).simplify())"
   ]
  },
  {
   "cell_type": "markdown",
   "metadata": {},
   "source": [
    "Case $\\sqrt{2a\\mu}-\\nu\\leq \\nu$"
   ]
  },
  {
   "cell_type": "code",
   "execution_count": 28,
   "metadata": {},
   "outputs": [
    {
     "data": {
      "text/plain": [
       "1/2*(nu - x)^2/mu - y"
      ]
     },
     "execution_count": 28,
     "metadata": {},
     "output_type": "execute_result"
    }
   ],
   "source": [
    "g_4"
   ]
  },
  {
   "cell_type": "code",
   "execution_count": 29,
   "metadata": {},
   "outputs": [
    {
     "data": {
      "text/html": [
       "<html>\\(\\displaystyle \\left[x = -\\sqrt{a \\mu - \\nu^{2}}, x = \\sqrt{a \\mu - \\nu^{2}}\\right]\\)</html>"
      ],
      "text/latex": [
       "$\\displaystyle \\left[x = -\\sqrt{a \\mu - \\nu^{2}}, x = \\sqrt{a \\mu - \\nu^{2}}\\right]$"
      ],
      "text/plain": [
       "[x == -sqrt(a*mu - nu^2), x == sqrt(a*mu - nu^2)]"
      ]
     },
     "metadata": {},
     "output_type": "display_data"
    }
   ],
   "source": [
    "pretty_print(solve([g_2 == g_4], x))"
   ]
  },
  {
   "cell_type": "code",
   "execution_count": 30,
   "metadata": {},
   "outputs": [
    {
     "data": {
      "text/html": [
       "<html>\\(\\displaystyle \\frac{{\\left(5 \\, a \\mu - 2 \\, \\nu^{2}\\right)} \\sqrt{a \\mu - \\nu^{2}}}{3 \\, \\mu}\\)</html>"
      ],
      "text/latex": [
       "$\\displaystyle \\frac{{\\left(5 \\, a \\mu - 2 \\, \\nu^{2}\\right)} \\sqrt{a \\mu - \\nu^{2}}}{3 \\, \\mu}$"
      ],
      "text/plain": [
       "1/3*(5*a*mu - 2*nu^2)*sqrt(a*mu - nu^2)/mu"
      ]
     },
     "metadata": {},
     "output_type": "display_data"
    }
   ],
   "source": [
    "A_1 = y_2.integral(x, -sqrt(a*mu - nu^2), +sqrt(a*mu - nu^2)).simplify()\n",
    "pretty_print(A_1)"
   ]
  },
  {
   "cell_type": "code",
   "execution_count": 31,
   "metadata": {},
   "outputs": [
    {
     "data": {
      "text/html": [
       "<html>\\(\\displaystyle \\frac{{\\left(a \\mu + 2 \\, \\nu^{2}\\right)} \\sqrt{a \\mu - \\nu^{2}}}{3 \\, \\mu}\\)</html>"
      ],
      "text/latex": [
       "$\\displaystyle \\frac{{\\left(a \\mu + 2 \\, \\nu^{2}\\right)} \\sqrt{a \\mu - \\nu^{2}}}{3 \\, \\mu}$"
      ],
      "text/plain": [
       "1/3*(a*mu + 2*nu^2)*sqrt(a*mu - nu^2)/mu"
      ]
     },
     "metadata": {},
     "output_type": "display_data"
    }
   ],
   "source": [
    "A_2 = y_4.integral(x, -sqrt(a*mu - nu^2), +sqrt(a*mu - nu^2)).simplify()\n",
    "pretty_print(A_2)"
   ]
  },
  {
   "cell_type": "code",
   "execution_count": 32,
   "metadata": {},
   "outputs": [
    {
     "data": {
      "text/html": [
       "<html>\\(\\displaystyle \\frac{{\\left(5 \\, a \\mu - 2 \\, \\nu^{2}\\right)} \\sqrt{a \\mu - \\nu^{2}}}{3 \\, \\mu} - \\frac{{\\left(a \\mu + 2 \\, \\nu^{2}\\right)} \\sqrt{a \\mu - \\nu^{2}}}{3 \\, \\mu}\\)</html>"
      ],
      "text/latex": [
       "$\\displaystyle \\frac{{\\left(5 \\, a \\mu - 2 \\, \\nu^{2}\\right)} \\sqrt{a \\mu - \\nu^{2}}}{3 \\, \\mu} - \\frac{{\\left(a \\mu + 2 \\, \\nu^{2}\\right)} \\sqrt{a \\mu - \\nu^{2}}}{3 \\, \\mu}$"
      ],
      "text/plain": [
       "1/3*(5*a*mu - 2*nu^2)*sqrt(a*mu - nu^2)/mu - 1/3*(a*mu + 2*nu^2)*sqrt(a*mu - nu^2)/mu"
      ]
     },
     "metadata": {},
     "output_type": "display_data"
    }
   ],
   "source": [
    "V_2 = (A_1 - A_2).simplify()\n",
    "pretty_print(V_2)"
   ]
  },
  {
   "cell_type": "markdown",
   "metadata": {},
   "source": [
    "If $\\sqrt{2a\\mu}-\\nu\\geq\\nu$, i.e. $\\sqrt{2a\\mu}\\geq 2\\nu$, then $\\text{Vol}\\,\\mathcal{V}(C)=\\frac{4}{3}a(\\sqrt{2a\\mu}-\\frac{3}{2}\\nu)$\n",
    "\n",
    "If $\\sqrt{2a\\mu}-\\nu\\leq\\nu$, i.e. $\\sqrt{2a\\mu}\\leq 2\\nu$, then $\\text{Vol}\\,\\mathcal{V}(C)=\\frac{4}{3\\mu}(a\\mu-\\nu^2)^{3/2}$"
   ]
  },
  {
   "cell_type": "code",
   "execution_count": 55,
   "metadata": {},
   "outputs": [
    {
     "name": "stdout",
     "output_type": "stream",
     "text": [
      "0 1 2 3 4 5 6 \n"
     ]
    },
    {
     "data": {
      "image/png": "[encoded data removed]",
      "text/plain": [
       "A 2-dimensional polyhedron in RDF^2 defined as the convex hull of 18 vertices"
      ]
     },
     "execution_count": 55,
     "metadata": {},
     "output_type": "execute_result"
    }
   ],
   "source": [
    "exact(C, -gammaP, -gammaQ, 6, matrix.identity(2) + gamma*A)"
   ]
  },
  {
   "cell_type": "code",
   "execution_count": 47,
   "metadata": {},
   "outputs": [
    {
     "name": "stdout",
     "output_type": "stream",
     "text": [
      "[   1.00000000000000   0.000000000000000]\n",
      "[-0.0500000000000000    1.00000000000000]\n",
      "[0 0]\n",
      "[1 0]\n"
     ]
    }
   ],
   "source": [
    "print(J)\n",
    "A = matrix([[0, 0], [1, 0]])\n",
    "print(A)"
   ]
  },
  {
   "cell_type": "code",
   "execution_count": 48,
   "metadata": {},
   "outputs": [
    {
     "data": {
      "text/plain": [
       "[  1.00000000000000  0.000000000000000]\n",
       "[0.0500000000000000   1.00000000000000]"
      ]
     },
     "execution_count": 48,
     "metadata": {},
     "output_type": "execute_result"
    }
   ],
   "source": [
    "matrix.identity(2) + 0.05*A"
   ]
  },
  {
   "cell_type": "code",
   "execution_count": null,
   "metadata": {},
   "outputs": [],
   "source": []
  }
 ],
 "metadata": {
  "kernelspec": {
   "display_name": "SageMath 9.7",
   "language": "sage",
   "name": "sagemath-9.7"
  },
  "language_info": {
   "codemirror_mode": {
    "name": "ipython",
    "version": 3
   },
   "file_extension": ".py",
   "mimetype": "text/x-python",
   "name": "python",
   "nbconvert_exporter": "python",
   "pygments_lexer": "ipython3",
   "version": "3.10.5"
  }
 },
 "nbformat": 4,
 "nbformat_minor": 4
}
