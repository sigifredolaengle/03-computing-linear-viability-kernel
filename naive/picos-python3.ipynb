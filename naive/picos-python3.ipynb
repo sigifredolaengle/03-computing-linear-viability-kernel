{
 "cells": [
  {
   "cell_type": "code",
   "execution_count": 1,
   "id": "0a6ea3bb-2d38-42fb-96fb-0eaf30a0893b",
   "metadata": {},
   "outputs": [
    {
     "name": "stdout",
     "output_type": "stream",
     "text": [
      "Requirement already satisfied: picos in /Users/laengle-uchile/mambaforge/lib/python3.9/site-packages (2.4.17)\n",
      "Requirement already satisfied: cvxopt in /Users/laengle-uchile/mambaforge/lib/python3.9/site-packages (from picos) (1.3.0)\n",
      "Requirement already satisfied: numpy in /Users/laengle-uchile/mambaforge/lib/python3.9/site-packages (from picos) (1.22.0)\n",
      "Requirement already satisfied: matplotlib in /Users/laengle-uchile/mambaforge/lib/python3.9/site-packages (3.7.1)\n",
      "Requirement already satisfied: numpy>=1.20 in /Users/laengle-uchile/mambaforge/lib/python3.9/site-packages (from matplotlib) (1.22.0)\n",
      "Requirement already satisfied: contourpy>=1.0.1 in /Users/laengle-uchile/mambaforge/lib/python3.9/site-packages (from matplotlib) (1.0.7)\n",
      "Requirement already satisfied: python-dateutil>=2.7 in /Users/laengle-uchile/mambaforge/lib/python3.9/site-packages (from matplotlib) (2.8.2)\n",
      "Requirement already satisfied: fonttools>=4.22.0 in /Users/laengle-uchile/mambaforge/lib/python3.9/site-packages (from matplotlib) (4.39.3)\n",
      "Requirement already satisfied: cycler>=0.10 in /Users/laengle-uchile/mambaforge/lib/python3.9/site-packages (from matplotlib) (0.11.0)\n",
      "Requirement already satisfied: pillow>=6.2.0 in /Users/laengle-uchile/mambaforge/lib/python3.9/site-packages (from matplotlib) (9.5.0)\n",
      "Requirement already satisfied: importlib-resources>=3.2.0 in /Users/laengle-uchile/mambaforge/lib/python3.9/site-packages (from matplotlib) (5.12.0)\n",
      "Requirement already satisfied: packaging>=20.0 in /Users/laengle-uchile/mambaforge/lib/python3.9/site-packages (from matplotlib) (21.0)\n",
      "Requirement already satisfied: kiwisolver>=1.0.1 in /Users/laengle-uchile/mambaforge/lib/python3.9/site-packages (from matplotlib) (1.4.4)\n",
      "Requirement already satisfied: pyparsing>=2.3.1 in /Users/laengle-uchile/mambaforge/lib/python3.9/site-packages (from matplotlib) (2.4.7)\n",
      "Requirement already satisfied: zipp>=3.1.0 in /Users/laengle-uchile/mambaforge/lib/python3.9/site-packages (from importlib-resources>=3.2.0->matplotlib) (3.6.0)\n",
      "Requirement already satisfied: six>=1.5 in /Users/laengle-uchile/mambaforge/lib/python3.9/site-packages (from python-dateutil>=2.7->matplotlib) (1.16.0)\n",
      "Requirement already satisfied: scipy in /Users/laengle-uchile/mambaforge/lib/python3.9/site-packages (1.10.1)\n",
      "Requirement already satisfied: numpy<1.27.0,>=1.19.5 in /Users/laengle-uchile/mambaforge/lib/python3.9/site-packages (from scipy) (1.22.0)\n"
     ]
    }
   ],
   "source": [
    "!pip install picos\n",
    "!pip install matplotlib\n",
    "!pip install scipy"
   ]
  },
  {
   "cell_type": "code",
   "execution_count": 5,
   "id": "39c8323c-af50-4c4f-a5da-c579d05b9924",
   "metadata": {},
   "outputs": [],
   "source": [
    "import picos"
   ]
  },
  {
   "cell_type": "code",
   "execution_count": 8,
   "id": "e5104517-fb13-4b9f-b75f-254ccc1e4b20",
   "metadata": {},
   "outputs": [
    {
     "name": "stdout",
     "output_type": "stream",
     "text": [
      "X ≽ 0\n"
     ]
    }
   ],
   "source": [
    "X = picos.SymmetricVariable(\"X\", 4)\n",
    "print(X >> 0)"
   ]
  },
  {
   "cell_type": "code",
   "execution_count": 13,
   "id": "78a0fe9d-a2de-4622-aa8c-4ebb5eec548d",
   "metadata": {},
   "outputs": [],
   "source": [
    "from picos import RealVariable, BinaryVariable\n",
    "t = RealVariable(\"t\")\n",
    "x = RealVariable(\"x\", 4)\n",
    "Y = RealVariable(\"Y\", (2, 4))\n",
    "Z = RealVariable(\"Z\", (4, 2))\n",
    "w = BinaryVariable(\"w\") "
   ]
  },
  {
   "cell_type": "code",
   "execution_count": 23,
   "id": "f657b8f6-87c9-4105-b94b-eb50a7c488cf",
   "metadata": {},
   "outputs": [
    {
     "name": "stdout",
     "output_type": "stream",
     "text": [
      "23.0\n"
     ]
    }
   ],
   "source": [
    "from picos import Constant\n",
    "alpha = Constant('α', 23); print(alpha)"
   ]
  },
  {
   "cell_type": "code",
   "execution_count": 28,
   "id": "25aa9787-5a5e-4737-ae3b-4e4c64b7e2b9",
   "metadata": {},
   "outputs": [
    {
     "data": {
      "text/plain": [
       "<Quadratic Expression: t² - x[1]·x[2] + 2·t - α>"
      ]
     },
     "execution_count": 28,
     "metadata": {},
     "output_type": "execute_result"
    }
   ],
   "source": [
    "t**2 - x[1]*x[2] + 2*t - alpha"
   ]
  },
  {
   "cell_type": "code",
   "execution_count": 29,
   "id": "c20f259d-f0fd-499c-b4aa-0c954c5fec50",
   "metadata": {},
   "outputs": [],
   "source": [
    "P.options.solver = \"cvxopt\""
   ]
  },
  {
   "cell_type": "code",
   "execution_count": 30,
   "id": "8a8cadd6-e390-41d1-9849-fe5b07e7a720",
   "metadata": {},
   "outputs": [],
   "source": [
    "import picos as pic"
   ]
  },
  {
   "cell_type": "code",
   "execution_count": 59,
   "id": "02c6d067-7d6d-450f-8bb3-2009835c9195",
   "metadata": {},
   "outputs": [
    {
     "name": "stdout",
     "output_type": "stream",
     "text": [
      "Quadratic Program\n",
      "  minimize (t - 5)² + 2\n",
      "  over\n",
      "    1×1 real variable t\n"
     ]
    }
   ],
   "source": [
    "P = pic.Problem()\n",
    "t = pic.RealVariable('t')\n",
    "P.set_objective('min', (t-5)**2 + 2)\n",
    "print(P)"
   ]
  },
  {
   "cell_type": "code",
   "execution_count": 60,
   "id": "5f96ff02-3224-4c6b-a244-acd30f0f7502",
   "metadata": {},
   "outputs": [
    {
     "data": {
      "text/plain": [
       "{<1×1 Real Variable: t>: [4.999997568094726]}"
      ]
     },
     "execution_count": 60,
     "metadata": {},
     "output_type": "execute_result"
    }
   ],
   "source": [
    "solution = P.solve()\n",
    "solution.primals"
   ]
  },
  {
   "cell_type": "code",
   "execution_count": 61,
   "id": "a8d22191-fd90-4087-afe6-2de21b1dca23",
   "metadata": {},
   "outputs": [],
   "source": [
    "max_t = P.add_constraint(t <= 5)"
   ]
  },
  {
   "cell_type": "code",
   "execution_count": 62,
   "id": "6536d66d-aedf-4c1d-975e-d5598539bd07",
   "metadata": {},
   "outputs": [
    {
     "data": {
      "text/plain": [
       "<Unit Simplex Constraint: x ∈ {x ≥ 0 : ∑(x) ≤ 1}>"
      ]
     },
     "execution_count": 62,
     "metadata": {},
     "output_type": "execute_result"
    }
   ],
   "source": [
    "P.add_constraint(x << pic.Simplex())"
   ]
  },
  {
   "cell_type": "code",
   "execution_count": 63,
   "id": "4122b710-1657-451a-ba4c-debcacc3c504",
   "metadata": {},
   "outputs": [
    {
     "data": {
      "text/plain": [
       "<1×1 Affine Constraint: t = ∑(x)>"
      ]
     },
     "execution_count": 63,
     "metadata": {},
     "output_type": "execute_result"
    }
   ],
   "source": [
    "P.add_constraint( t == x.sum)"
   ]
  },
  {
   "cell_type": "code",
   "execution_count": 64,
   "id": "fb6e23a4-6814-4796-aafc-64b551a5cac1",
   "metadata": {},
   "outputs": [],
   "source": [
    "P.remove_constraint(max_t)"
   ]
  },
  {
   "cell_type": "code",
   "execution_count": 65,
   "id": "41ac35cc-942f-46c0-9574-89026ad01773",
   "metadata": {},
   "outputs": [
    {
     "name": "stdout",
     "output_type": "stream",
     "text": [
      "Quadratic Program\n",
      "  minimize (t - 5)² + 2\n",
      "  over\n",
      "    1×1 real variable t\n",
      "    4×1 real variable x\n",
      "  subject to\n",
      "    x ∈ {x ≥ 0 : ∑(x) ≤ 1}\n",
      "    t = ∑(x)\n"
     ]
    }
   ],
   "source": [
    "print(P)"
   ]
  },
  {
   "cell_type": "markdown",
   "id": "48aa58bb-62c5-4ffc-afbb-7bd397b436a2",
   "metadata": {},
   "source": [
    "**Projection onto a convex hull**"
   ]
  },
  {
   "cell_type": "code",
   "execution_count": 2,
   "id": "b38e1ece-72ce-4190-b7e9-438c7a8f0c74",
   "metadata": {},
   "outputs": [
    {
     "data": {
      "image/png": "[encoded data removed]",
      "text/plain": [
       "<Figure size 626.4x288 with 1 Axes>"
      ]
     },
     "metadata": {
      "needs_background": "light"
     },
     "output_type": "display_data"
    }
   ],
   "source": [
    "#!/usr/bin/env python3\n",
    "\n",
    "import numpy as np\n",
    "import picos as pc\n",
    "from matplotlib import pyplot\n",
    "from scipy import spatial\n",
    "\n",
    "# Make the result reproducible.\n",
    "# np.random.seed(12)\n",
    "\n",
    "# Define the data.\n",
    "n = 20\n",
    "A = np.random.rand(2, n)\n",
    "b = np.array([1, 1])\n",
    "\n",
    "# Define the decision variable.\n",
    "x = pc.RealVariable(\"x\", n)\n",
    "\n",
    "# Define and solve the problem.\n",
    "P = pc.Problem()\n",
    "P.minimize = abs(A*x - b)\n",
    "P += pc.sum(x) == 1, x >= 0\n",
    "P.solve(solver=\"cvxopt\")\n",
    "\n",
    "# Obtain the projection point.\n",
    "p = (A*x).np\n",
    "\n",
    "# Plot the results.\n",
    "V = spatial.ConvexHull(A.T).vertices\n",
    "figure = pyplot.figure(figsize=(8.7, 4))\n",
    "figure.gca().set_aspect(\"equal\")\n",
    "pyplot.axis(\"off\")\n",
    "pyplot.fill(A.T[V, 0], A.T[V, 1], \"lightgray\")\n",
    "pyplot.plot(A.T[:, 0], A.T[:, 1], \"k.\")\n",
    "pyplot.plot(*zip(b, p), \"k.--\")\n",
    "pyplot.annotate(\"$\\mathrm{conv} \\{a_1, \\ldots, a_n\\}$\", [0.25, 0.5])\n",
    "pyplot.annotate(\"$b$\", b + 1/100)\n",
    "pyplot.annotate(\"$Ax$\", p + 1/100)\n",
    "pyplot.tight_layout()\n",
    "pyplot.show()"
   ]
  },
  {
   "cell_type": "markdown",
   "id": "62701775-b652-41c5-a0db-63e05614b564",
   "metadata": {},
   "source": [
    "Let $M$ be a $(m\\times n)-$Matrix, solve the problem $\\min_{t,x}\\{t\\in\\mathbb{R}:Mx\\leq t, \\langle 1,x\\rangle=1\\text{ and }x\\geq 0\\}$ from https://stackoverflow.com/questions/35675269/minimax-optimization-in-picos"
   ]
  },
  {
   "cell_type": "code",
   "execution_count": 24,
   "id": "e0d1d21a-795b-4019-983e-d8c602089a24",
   "metadata": {},
   "outputs": [],
   "source": [
    "import picos as pic\n",
    "import cvxopt as cvx\n",
    "\n",
    "n = 4\n",
    "m = 3\n",
    "M = cvx.normal(m, n) #generate a random matrix\n",
    "\n",
    "P = pic.Problem()\n",
    "\n",
    "x = pic.RealVariable(\"x\", n)\n",
    "t = pic.RealVariable(\"t\")\n",
    "\n",
    "P.add_constraint(M*x <= t)\n",
    "P += pc.sum(x) == 1, x >= 0\n",
    "P.set_objective(\"min\", t)"
   ]
  },
  {
   "cell_type": "code",
   "execution_count": 25,
   "id": "be6c1c2b-8425-4299-b7fc-b8a2aedda8ec",
   "metadata": {},
   "outputs": [
    {
     "name": "stdout",
     "output_type": "stream",
     "text": [
      "Linear Program\n",
      "  minimize t\n",
      "  over\n",
      "    1×1 real variable t\n",
      "    4×1 real variable x\n",
      "  subject to\n",
      "    [t] ≥ [3×4]·x\n",
      "    ∑(x) = 1\n",
      "    x ≥ 0\n"
     ]
    }
   ],
   "source": [
    "print(P)"
   ]
  },
  {
   "cell_type": "code",
   "execution_count": 26,
   "id": "086746ab-d44d-40aa-9a73-5a78143af831",
   "metadata": {},
   "outputs": [],
   "source": [
    "solutions = P.solve()"
   ]
  },
  {
   "cell_type": "code",
   "execution_count": 27,
   "id": "aec97a2a-58f3-4a40-aa18-f7208e422e1b",
   "metadata": {},
   "outputs": [
    {
     "data": {
      "text/plain": [
       "{<1×1 Real Variable: t>: [-0.8600630349194727],\n",
       " <4×1 Real Variable: x>: [-9.617930678292048e-12,\n",
       "  4.952529442946129e-12,\n",
       "  1.0000000000119444,\n",
       "  -7.279149234319895e-12]}"
      ]
     },
     "execution_count": 27,
     "metadata": {},
     "output_type": "execute_result"
    }
   ],
   "source": [
    "solutions.primals"
   ]
  },
  {
   "cell_type": "code",
   "execution_count": 89,
   "id": "09dea748-bf0a-47fb-abc6-dd83c2d3f97e",
   "metadata": {},
   "outputs": [
    {
     "data": {
      "text/plain": [
       "{<3×1 Affine Constraint: [t] ≥ [3×4]·x>: <3x1 matrix, tc='d'>,\n",
       " <1×1 Affine Constraint: ∑(x) = 1>: <1x1 matrix, tc='d'>}"
      ]
     },
     "execution_count": 89,
     "metadata": {},
     "output_type": "execute_result"
    }
   ],
   "source": [
    "solutions.duals"
   ]
  },
  {
   "cell_type": "code",
   "execution_count": 67,
   "id": "40455ac3-1a4e-4b72-b1cc-bb2d2be6a5ed",
   "metadata": {},
   "outputs": [
    {
     "name": "stdout",
     "output_type": "stream",
     "text": [
      "[ 6.93e-01  1.51e-01  1.20e+00  5.03e-01]\n",
      "[ 3.66e-01  5.54e-01  1.32e+00 -5.95e-01]\n",
      "[-1.34e+00  2.51e-02 -2.42e-01 -4.84e-01]\n",
      "\n"
     ]
    }
   ],
   "source": [
    "print(M)"
   ]
  },
  {
   "cell_type": "markdown",
   "id": "e6e2779d-6504-420d-b1cb-e6df9a80f777",
   "metadata": {},
   "source": [
    "Robust optimization:\n",
    "\n",
    "$\\min_{x\\in\\mathbb{R}^n}\\max_{\\theta\\in\\Theta}\\|Ax-(b+\\theta)\\|$ subject to $\\sum_{i=1}^nx_i=1$ and $x\\geq0$, where $\\Theta\\doteq\\{\\theta:L\\theta\\leq 1\\}$."
   ]
  },
  {
   "cell_type": "code",
   "execution_count": 115,
   "id": "b520b8f6-56ef-418e-bb08-39e25798ef2c",
   "metadata": {},
   "outputs": [
    {
     "data": {
      "image/png": "[encoded data removed]",
      "text/plain": [
       "<Figure size 626.4x288 with 1 Axes>"
      ]
     },
     "metadata": {
      "needs_background": "light"
     },
     "output_type": "display_data"
    }
   ],
   "source": [
    "import numpy as np\n",
    "import picos as pc\n",
    "from matplotlib import pyplot\n",
    "from matplotlib.patches import Ellipse\n",
    "from scipy import spatial\n",
    "\n",
    "# Make the result reproducible.\n",
    "np.random.seed(12)\n",
    "\n",
    "# Define the data.\n",
    "n = 20\n",
    "A = np.random.rand(2, n)\n",
    "b = np.array([1, 0])\n",
    "\n",
    "# Define an ellipsoidal uncertainty set Θ and a perturbation parameter θ.\n",
    "# The perturbation is later added to the data, rendering it uncertain.\n",
    "Theta = pc.uncertain.ConicPerturbationSet(\"θ\", 2)\n",
    "Theta.bound(  # Let ‖Lθ‖ ≤ 1.\n",
    "  abs([[ 5,  0],\n",
    "       [ 0, 10]] * Theta.element) <= 1\n",
    ")\n",
    "theta = Theta.compile()\n",
    "\n",
    "# Define the decision variable.\n",
    "x = pc.RealVariable(\"x\", n)\n",
    "\n",
    "# Define and solve the problem.\n",
    "P = pc.Problem()\n",
    "P.minimize = abs(A*x - (b + theta))\n",
    "P += pc.sum(x) == 1, x >= 0\n",
    "P.solve(solver=\"cvxopt\")\n",
    "\n",
    "# Obtain the projection point.\n",
    "p = (A*x).np\n",
    "\n",
    "# Plot the results.\n",
    "V = spatial.ConvexHull(A.T).vertices\n",
    "E = Ellipse(b, 0.4, 0.2, color=\"lightgray\", ec=\"k\", ls=\"--\")\n",
    "figure = pyplot.figure(figsize=(8.7, 4))\n",
    "axis = figure.gca()\n",
    "axis.add_artist(E)\n",
    "axis.set_aspect(\"equal\")\n",
    "axis.set_xlim(0.5, 1.21)\n",
    "axis.set_ylim(-0.11, 0.5)\n",
    "pyplot.axis(\"off\")\n",
    "pyplot.fill(A.T[V, 0], A.T[V, 1], \"lightgray\")\n",
    "pyplot.plot(A.T[:, 0], A.T[:, 1], \"k.\")\n",
    "pyplot.plot(*zip(b, p), \"k.\")\n",
    "pyplot.annotate(\"$\\mathrm{conv} \\{a_1, \\ldots, a_n\\}$\", [0.25, 0.5])\n",
    "pyplot.annotate(\"$b$\", b + 1/200)\n",
    "pyplot.annotate(\"$Ax$\", p + 1/200)\n",
    "pyplot.tight_layout()\n",
    "pyplot.show()"
   ]
  },
  {
   "cell_type": "code",
   "execution_count": 103,
   "id": "6db6e1e0-e24d-46d8-9133-ec64f69019dd",
   "metadata": {},
   "outputs": [],
   "source": [
    "Theta = pc.uncertain.ConicPerturbationSet(\"θ\", 2)"
   ]
  },
  {
   "cell_type": "code",
   "execution_count": 105,
   "id": "a8ec24df-abc6-4bfc-8ba9-5c4ed17ec20e",
   "metadata": {},
   "outputs": [
    {
     "name": "stdout",
     "output_type": "stream",
     "text": [
      "{θ : }\n"
     ]
    }
   ],
   "source": [
    "print(Theta)"
   ]
  },
  {
   "cell_type": "code",
   "execution_count": 107,
   "id": "bec12382-4943-44bc-af1e-b54fbaa84adc",
   "metadata": {},
   "outputs": [
    {
     "name": "stdout",
     "output_type": "stream",
     "text": [
      "θ\n"
     ]
    }
   ],
   "source": [
    "print(Theta.element)"
   ]
  },
  {
   "cell_type": "code",
   "execution_count": 108,
   "id": "d1e3cc39-dc89-4891-ac38-e48d622fbb58",
   "metadata": {},
   "outputs": [],
   "source": [
    "theta = Theta.compile()"
   ]
  },
  {
   "cell_type": "code",
   "execution_count": 110,
   "id": "6ecd9bd3-d6e6-4bfa-af41-e7e662736a5e",
   "metadata": {},
   "outputs": [
    {
     "name": "stdout",
     "output_type": "stream",
     "text": [
      "θ\n"
     ]
    }
   ],
   "source": [
    "print(theta)"
   ]
  },
  {
   "cell_type": "code",
   "execution_count": null,
   "id": "e4087195-be80-4c5d-a8cb-d44fdb028470",
   "metadata": {},
   "outputs": [],
   "source": []
  }
 ],
 "metadata": {
  "kernelspec": {
   "display_name": "Python 3 (ipykernel)",
   "language": "python",
   "name": "python3"
  },
  "language_info": {
   "codemirror_mode": {
    "name": "ipython",
    "version": 3
   },
   "file_extension": ".py",
   "mimetype": "text/x-python",
   "name": "python",
   "nbconvert_exporter": "python",
   "pygments_lexer": "ipython3",
   "version": "3.9.7"
  }
 },
 "nbformat": 4,
 "nbformat_minor": 5
}
