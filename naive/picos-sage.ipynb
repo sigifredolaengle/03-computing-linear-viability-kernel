{
 "cells": [
  {
   "cell_type": "code",
   "execution_count": 2,
   "id": "1fdffc4c-e798-4468-9f8a-cbb642f8d374",
   "metadata": {},
   "outputs": [
    {
     "name": "stdout",
     "output_type": "stream",
     "text": [
      "Collecting picos\n",
      "  Downloading PICOS-2.4.17.tar.gz (510 kB)\n",
      "\u001b[2K     \u001b[38;2;114;156;31m━━━━━━━━━━━━━━━━━━━━━━━━━━━━━━━━━━━━━━━\u001b[0m \u001b[32m510.7/510.7 kB\u001b[0m \u001b[31m2.3 MB/s\u001b[0m eta \u001b[36m0:00:00\u001b[0m[36m0:00:01\u001b[0mm eta \u001b[36m0:00:01\u001b[0m\n",
      "\u001b[?25h  Preparing metadata (setup.py) ... \u001b[?25ldone\n",
      "\u001b[?25hRequirement already satisfied: cvxopt in /private/var/tmp/sage-9.8-current/local/var/lib/sage/venv-python3.11.1/lib/python3.11/site-packages (from picos) (1.3.0)\n",
      "Requirement already satisfied: numpy in /private/var/tmp/sage-9.8-current/local/var/lib/sage/venv-python3.11.1/lib/python3.11/site-packages (from picos) (1.23.5)\n",
      "Building wheels for collected packages: picos\n",
      "  Building wheel for picos (setup.py) ... \u001b[?25ldone\n",
      "\u001b[?25h  Created wheel for picos: filename=PICOS-2.4.17-py3-none-any.whl size=472079 sha256=5e683926e263bd8dd9c0e8be3e9a07f6974ccf6fee05af5fd1e8922e0568a4b8\n",
      "  Stored in directory: /Users/laengle-uchile/Library/Caches/pip/wheels/11/3f/e8/e37a87c4461222bbd83cd40c3d6c01ffa34c36a5f39f1c1951\n",
      "Successfully built picos\n",
      "Installing collected packages: picos\n",
      "Successfully installed picos-2.4.17\n"
     ]
    }
   ],
   "source": [
    "!pip install picos"
   ]
  },
  {
   "cell_type": "code",
   "execution_count": 5,
   "id": "5f99ef90-eab9-4a87-935f-1ced518890b2",
   "metadata": {},
   "outputs": [],
   "source": [
    "import picos as pic\n",
    "import cvxopt as cvx"
   ]
  },
  {
   "cell_type": "code",
   "execution_count": 9,
   "id": "8b306b29-7c03-487c-a722-0e4b094cf117",
   "metadata": {},
   "outputs": [
    {
     "name": "stdout",
     "output_type": "stream",
     "text": [
      "[-1.67e-01  8.51e-01  2.17e-02 -1.31e+00]\n",
      "[ 9.13e-01 -8.14e-01 -7.38e-01  6.00e-01]\n",
      "[ 2.10e+00  5.59e-02  6.19e-01  8.60e-01]\n",
      "\n"
     ]
    }
   ],
   "source": [
    "n=3\n",
    "m=4\n",
    "M = cvx.normal(n,m) #generate a random matrix\n",
    "print(M)"
   ]
  },
  {
   "cell_type": "code",
   "execution_count": 26,
   "id": "e4339878-8f8c-4ef0-9019-e8de09acea41",
   "metadata": {},
   "outputs": [],
   "source": [
    "from picos import Problem, RealVariable"
   ]
  },
  {
   "cell_type": "code",
   "execution_count": 30,
   "id": "a4871b3a-f805-4039-b426-9b2097d67d1f",
   "metadata": {},
   "outputs": [
    {
     "ename": "TypeError",
     "evalue": "Shapes must be given as None, int, tuple or list.",
     "output_type": "error",
     "traceback": [
      "\u001b[0;31m---------------------------------------------------------------------------\u001b[0m",
      "\u001b[0;31mTypeError\u001b[0m                                 Traceback (most recent call last)",
      "Cell \u001b[0;32mIn [30], line 1\u001b[0m\n\u001b[0;32m----> 1\u001b[0m z \u001b[38;5;241m=\u001b[39m \u001b[43mRealVariable\u001b[49m\u001b[43m(\u001b[49m\u001b[38;5;124;43m\"\u001b[39;49m\u001b[38;5;124;43mz\u001b[39;49m\u001b[38;5;124;43m\"\u001b[39;49m\u001b[43m,\u001b[49m\u001b[43m \u001b[49m\u001b[43mInteger\u001b[49m\u001b[43m(\u001b[49m\u001b[38;5;241;43m3\u001b[39;49m\u001b[43m)\u001b[49m\u001b[43m)\u001b[49m\n",
      "File \u001b[0;32m~/.sage/local/lib/python3.11/site-packages/picos/expressions/variables.py:219\u001b[0m, in \u001b[0;36mRealVariable.__init__\u001b[0;34m(self, name, shape, lower, upper)\u001b[0m\n\u001b[1;32m    207\u001b[0m \u001b[38;5;28;01mdef\u001b[39;00m \u001b[38;5;21m__init__\u001b[39m(\u001b[38;5;28mself\u001b[39m, name, shape\u001b[38;5;241m=\u001b[39m(\u001b[38;5;241m1\u001b[39m, \u001b[38;5;241m1\u001b[39m), lower\u001b[38;5;241m=\u001b[39m\u001b[38;5;28;01mNone\u001b[39;00m, upper\u001b[38;5;241m=\u001b[39m\u001b[38;5;28;01mNone\u001b[39;00m):\n\u001b[1;32m    208\u001b[0m     \u001b[38;5;124;03m\"\"\"Create a :class:`RealVariable`.\u001b[39;00m\n\u001b[1;32m    209\u001b[0m \n\u001b[1;32m    210\u001b[0m \u001b[38;5;124;03m    :param str name: The variable's name, used for both string description\u001b[39;00m\n\u001b[0;32m   (...)\u001b[0m\n\u001b[1;32m    217\u001b[0m \u001b[38;5;124;03m        ``float(\"inf\")`` to denote unbounded elements.\u001b[39;00m\n\u001b[1;32m    218\u001b[0m \u001b[38;5;124;03m    \"\"\"\u001b[39;00m\n\u001b[0;32m--> 219\u001b[0m     shape \u001b[38;5;241m=\u001b[39m \u001b[43mload_shape\u001b[49m\u001b[43m(\u001b[49m\u001b[43mshape\u001b[49m\u001b[43m)\u001b[49m\n\u001b[1;32m    220\u001b[0m     vec \u001b[38;5;241m=\u001b[39m FullVectorization(shape)\n\u001b[1;32m    221\u001b[0m     BaseVariable\u001b[38;5;241m.\u001b[39m\u001b[38;5;21m__init__\u001b[39m(\u001b[38;5;28mself\u001b[39m, name, vec, lower, upper)\n",
      "File \u001b[0;32m~/.sage/local/lib/python3.11/site-packages/picos/expressions/data.py:66\u001b[0m, in \u001b[0;36mload_shape\u001b[0;34m(shape, squareMatrix, wildcards)\u001b[0m\n\u001b[1;32m     64\u001b[0m         shape \u001b[38;5;241m=\u001b[39m (shape, \u001b[38;5;241m1\u001b[39m)\n\u001b[1;32m     65\u001b[0m \u001b[38;5;28;01melif\u001b[39;00m \u001b[38;5;129;01mnot\u001b[39;00m \u001b[38;5;28misinstance\u001b[39m(shape, \u001b[38;5;28mtuple\u001b[39m) \u001b[38;5;129;01mand\u001b[39;00m \u001b[38;5;129;01mnot\u001b[39;00m \u001b[38;5;28misinstance\u001b[39m(shape, \u001b[38;5;28mlist\u001b[39m):\n\u001b[0;32m---> 66\u001b[0m     \u001b[38;5;28;01mraise\u001b[39;00m \u001b[38;5;167;01mTypeError\u001b[39;00m(\u001b[38;5;124m\"\u001b[39m\u001b[38;5;124mShapes must be given as None, int, tuple or list.\u001b[39m\u001b[38;5;124m\"\u001b[39m)\n\u001b[1;32m     67\u001b[0m \u001b[38;5;28;01melif\u001b[39;00m \u001b[38;5;28mlen\u001b[39m(shape) \u001b[38;5;241m==\u001b[39m \u001b[38;5;241m1\u001b[39m:\n\u001b[1;32m     68\u001b[0m     shape \u001b[38;5;241m=\u001b[39m (shape[\u001b[38;5;241m0\u001b[39m], \u001b[38;5;241m1\u001b[39m)\n",
      "\u001b[0;31mTypeError\u001b[0m: Shapes must be given as None, int, tuple or list."
     ]
    }
   ],
   "source": [
    "z = RealVariable(\"z\", 3)"
   ]
  },
  {
   "cell_type": "code",
   "execution_count": 22,
   "id": "b96e6f80-273f-44f0-a9c8-9a1e5f7a4207",
   "metadata": {},
   "outputs": [],
   "source": [
    "from picos import Problem\n",
    "P = Problem()\n",
    "x = P.add_variable('x', 3)\n",
    "x"
   ]
  },
  {
   "cell_type": "code",
   "execution_count": 31,
   "id": "a6ec9c0d-157b-4856-8bf5-0aafe4983c2f",
   "metadata": {},
   "outputs": [],
   "source": [
    "import numpy as np\n",
    "import picos as pc\n",
    "from matplotlib import pyplot\n",
    "from scipy import spatial"
   ]
  },
  {
   "cell_type": "code",
   "execution_count": 32,
   "id": "04cb79ce-c6fa-43ce-99dc-f098e4b95ec8",
   "metadata": {},
   "outputs": [],
   "source": [
    "# Make the result reproducible.\n",
    "np.random.seed(12)\n",
    "\n",
    "# Define the data.\n",
    "n = 20\n",
    "A = np.random.rand(2, n)\n",
    "b = np.array([1, 0])"
   ]
  },
  {
   "cell_type": "code",
   "execution_count": 40,
   "id": "5c3c3e47-1e14-4870-94b9-1ec3d0863cc2",
   "metadata": {},
   "outputs": [],
   "source": [
    "x = pc.RealVariable(\"x\", shape = (1, n))"
   ]
  },
  {
   "cell_type": "code",
   "execution_count": 43,
   "id": "8233e053-41ee-4c34-8020-bff019d61670",
   "metadata": {},
   "outputs": [
    {
     "ename": "TypeError",
     "evalue": "Invalid operation BiaffineExpression.__rmul__(x, array([[0.15416284, 0.7400497 , 0.26331502, 0.53373939, 0.01457496,\n        0.91874701, 0.90071485, 0.03342143, 0.95694934, 0.13720932,\n        0.28382835, 0.60608318, 0.94422514, 0.85273554, 0.00225923,\n        0.52122603, 0.55203763, 0.48537741, 0.76813415, 0.16071675],\n       [0.76456045, 0.0208098 , 0.13521018, 0.11627302, 0.30989758,\n        0.67145265, 0.47122978, 0.8161683 , 0.28958678, 0.73312598,\n        0.70262236, 0.32756948, 0.33464753, 0.97805808, 0.62458211,\n        0.95031352, 0.76747565, 0.82500925, 0.4066403 , 0.45130841]])): Could not load right hand side as a constant of matching shape.",
     "output_type": "error",
     "traceback": [
      "\u001b[0;31m---------------------------------------------------------------------------\u001b[0m",
      "\u001b[0;31mTypeError\u001b[0m                                 Traceback (most recent call last)",
      "File \u001b[0;32m~/.sage/local/lib/python3.11/site-packages/picos/expressions/data.py:1251\u001b[0m, in \u001b[0;36mconvert_operands.<locals>.decorator.<locals>.wrapper\u001b[0;34m(lhs, rhs, *args, **kwargs)\u001b[0m\n\u001b[1;32m   1250\u001b[0m \u001b[38;5;28;01mtry\u001b[39;00m:  \u001b[38;5;66;03m# Try loading as scalar factor first.\u001b[39;00m\n\u001b[0;32m-> 1251\u001b[0m     rhs \u001b[38;5;241m=\u001b[39m \u001b[43mConstant\u001b[49m\u001b[43m(\u001b[49m\u001b[43mrhs\u001b[49m\u001b[43m,\u001b[49m\u001b[43m \u001b[49m\u001b[43mshape\u001b[49m\u001b[38;5;241;43m=\u001b[39;49m\u001b[43m(\u001b[49m\u001b[38;5;241;43m1\u001b[39;49m\u001b[43m,\u001b[49m\u001b[43m \u001b[49m\u001b[38;5;241;43m1\u001b[39;49m\u001b[43m)\u001b[49m\u001b[43m)\u001b[49m\n\u001b[1;32m   1252\u001b[0m \u001b[38;5;28;01mexcept\u001b[39;00m \u001b[38;5;167;01mException\u001b[39;00m:\n",
      "File \u001b[0;32m~/.sage/local/lib/python3.11/site-packages/picos/expressions/exp_affine.py:697\u001b[0m, in \u001b[0;36mConstant\u001b[0;34m(name_or_value, value, shape)\u001b[0m\n\u001b[1;32m    695\u001b[0m     name  \u001b[38;5;241m=\u001b[39m name_or_value\n\u001b[0;32m--> 697\u001b[0m value, valStr \u001b[38;5;241m=\u001b[39m \u001b[43mload_data\u001b[49m\u001b[43m(\u001b[49m\u001b[43mvalue\u001b[49m\u001b[43m,\u001b[49m\u001b[43m \u001b[49m\u001b[43mshape\u001b[49m\u001b[43m)\u001b[49m\n\u001b[1;32m    699\u001b[0m \u001b[38;5;28;01mif\u001b[39;00m value\u001b[38;5;241m.\u001b[39mtypecode \u001b[38;5;241m==\u001b[39m \u001b[38;5;124m\"\u001b[39m\u001b[38;5;124mz\u001b[39m\u001b[38;5;124m\"\u001b[39m:\n",
      "File \u001b[0;32m~/.sage/local/lib/python3.11/site-packages/picos/expressions/data.py:688\u001b[0m, in \u001b[0;36mload_data\u001b[0;34m(value, shape, typecode, sparse, alwaysCopy, legacy)\u001b[0m\n\u001b[1;32m    687\u001b[0m \u001b[38;5;28;01melse\u001b[39;00m:\n\u001b[0;32m--> 688\u001b[0m     \u001b[43mbroadcast_error\u001b[49m\u001b[43m(\u001b[49m\u001b[43m)\u001b[49m\n\u001b[1;32m    690\u001b[0m \u001b[38;5;66;03m# The data now has the desired shape.\u001b[39;00m\n",
      "File \u001b[0;32m~/.sage/local/lib/python3.11/site-packages/picos/expressions/data.py:356\u001b[0m, in \u001b[0;36mload_data.<locals>.broadcast_error\u001b[0;34m()\u001b[0m\n\u001b[1;32m    355\u001b[0m \u001b[38;5;124;03m\"\"\"Raise a broadcasting related :class:TypeError.\"\"\"\u001b[39;00m\n\u001b[0;32m--> 356\u001b[0m \u001b[38;5;28;01mraise\u001b[39;00m \u001b[38;5;167;01mTypeError\u001b[39;00m(\u001b[38;5;124m\"\u001b[39m\u001b[38;5;124mCannot broadcast or reshape from \u001b[39m\u001b[38;5;132;01m{}\u001b[39;00m\u001b[38;5;124m to \u001b[39m\u001b[38;5;132;01m{}\u001b[39;00m\u001b[38;5;132;01m{}\u001b[39;00m\u001b[38;5;124m.\u001b[39m\u001b[38;5;124m\"\u001b[39m\n\u001b[1;32m    357\u001b[0m     \u001b[38;5;241m.\u001b[39mformat(glyphs\u001b[38;5;241m.\u001b[39mshape(inShape), glyphs\u001b[38;5;241m.\u001b[39mshape(shape), \u001b[38;5;124m\"\u001b[39m\u001b[38;5;124m read as \u001b[39m\u001b[38;5;132;01m{}\u001b[39;00m\u001b[38;5;124m\"\u001b[39m\n\u001b[1;32m    358\u001b[0m         \u001b[38;5;241m.\u001b[39mformat(glyphs\u001b[38;5;241m.\u001b[39mshape(outShape)) \u001b[38;5;28;01mif\u001b[39;00m shape \u001b[38;5;241m!=\u001b[39m outShape \u001b[38;5;28;01melse\u001b[39;00m \u001b[38;5;124m\"\u001b[39m\u001b[38;5;124m\"\u001b[39m))\n",
      "\u001b[0;31mTypeError\u001b[0m: Cannot broadcast or reshape from 2×20 to 1×1.",
      "\nDuring handling of the above exception, another exception occurred:\n",
      "\u001b[0;31mTypeError\u001b[0m                                 Traceback (most recent call last)",
      "File \u001b[0;32m~/.sage/local/lib/python3.11/site-packages/picos/expressions/data.py:1259\u001b[0m, in \u001b[0;36mconvert_operands.<locals>.decorator.<locals>.wrapper\u001b[0;34m(lhs, rhs, *args, **kwargs)\u001b[0m\n\u001b[1;32m   1257\u001b[0m         s \u001b[38;5;241m=\u001b[39m (lhs\u001b[38;5;241m.\u001b[39mshape[\u001b[38;5;241m1\u001b[39m], \u001b[38;5;241m1\u001b[39m)\n\u001b[0;32m-> 1259\u001b[0m     rhs \u001b[38;5;241m=\u001b[39m \u001b[43mConstant\u001b[49m\u001b[43m(\u001b[49m\u001b[43mrhs\u001b[49m\u001b[43m,\u001b[49m\u001b[43m \u001b[49m\u001b[43mshape\u001b[49m\u001b[38;5;241;43m=\u001b[39;49m\u001b[43ms\u001b[49m\u001b[43m)\u001b[49m\n\u001b[1;32m   1260\u001b[0m \u001b[38;5;28;01mexcept\u001b[39;00m \u001b[38;5;167;01mTypeError\u001b[39;00m:  \u001b[38;5;66;03m# Try loading as a matrix.\u001b[39;00m\n",
      "File \u001b[0;32m~/.sage/local/lib/python3.11/site-packages/picos/expressions/exp_affine.py:697\u001b[0m, in \u001b[0;36mConstant\u001b[0;34m(name_or_value, value, shape)\u001b[0m\n\u001b[1;32m    695\u001b[0m     name  \u001b[38;5;241m=\u001b[39m name_or_value\n\u001b[0;32m--> 697\u001b[0m value, valStr \u001b[38;5;241m=\u001b[39m \u001b[43mload_data\u001b[49m\u001b[43m(\u001b[49m\u001b[43mvalue\u001b[49m\u001b[43m,\u001b[49m\u001b[43m \u001b[49m\u001b[43mshape\u001b[49m\u001b[43m)\u001b[49m\n\u001b[1;32m    699\u001b[0m \u001b[38;5;28;01mif\u001b[39;00m value\u001b[38;5;241m.\u001b[39mtypecode \u001b[38;5;241m==\u001b[39m \u001b[38;5;124m\"\u001b[39m\u001b[38;5;124mz\u001b[39m\u001b[38;5;124m\"\u001b[39m:\n",
      "File \u001b[0;32m~/.sage/local/lib/python3.11/site-packages/picos/expressions/data.py:688\u001b[0m, in \u001b[0;36mload_data\u001b[0;34m(value, shape, typecode, sparse, alwaysCopy, legacy)\u001b[0m\n\u001b[1;32m    687\u001b[0m \u001b[38;5;28;01melse\u001b[39;00m:\n\u001b[0;32m--> 688\u001b[0m     \u001b[43mbroadcast_error\u001b[49m\u001b[43m(\u001b[49m\u001b[43m)\u001b[49m\n\u001b[1;32m    690\u001b[0m \u001b[38;5;66;03m# The data now has the desired shape.\u001b[39;00m\n",
      "File \u001b[0;32m~/.sage/local/lib/python3.11/site-packages/picos/expressions/data.py:356\u001b[0m, in \u001b[0;36mload_data.<locals>.broadcast_error\u001b[0;34m()\u001b[0m\n\u001b[1;32m    355\u001b[0m \u001b[38;5;124;03m\"\"\"Raise a broadcasting related :class:TypeError.\"\"\"\u001b[39;00m\n\u001b[0;32m--> 356\u001b[0m \u001b[38;5;28;01mraise\u001b[39;00m \u001b[38;5;167;01mTypeError\u001b[39;00m(\u001b[38;5;124m\"\u001b[39m\u001b[38;5;124mCannot broadcast or reshape from \u001b[39m\u001b[38;5;132;01m{}\u001b[39;00m\u001b[38;5;124m to \u001b[39m\u001b[38;5;132;01m{}\u001b[39;00m\u001b[38;5;132;01m{}\u001b[39;00m\u001b[38;5;124m.\u001b[39m\u001b[38;5;124m\"\u001b[39m\n\u001b[1;32m    357\u001b[0m     \u001b[38;5;241m.\u001b[39mformat(glyphs\u001b[38;5;241m.\u001b[39mshape(inShape), glyphs\u001b[38;5;241m.\u001b[39mshape(shape), \u001b[38;5;124m\"\u001b[39m\u001b[38;5;124m read as \u001b[39m\u001b[38;5;132;01m{}\u001b[39;00m\u001b[38;5;124m\"\u001b[39m\n\u001b[1;32m    358\u001b[0m         \u001b[38;5;241m.\u001b[39mformat(glyphs\u001b[38;5;241m.\u001b[39mshape(outShape)) \u001b[38;5;28;01mif\u001b[39;00m shape \u001b[38;5;241m!=\u001b[39m outShape \u001b[38;5;28;01melse\u001b[39;00m \u001b[38;5;124m\"\u001b[39m\u001b[38;5;124m\"\u001b[39m))\n",
      "\u001b[0;31mTypeError\u001b[0m: Cannot broadcast or reshape from 2×20 to 1×1.",
      "\nDuring handling of the above exception, another exception occurred:\n",
      "\u001b[0;31mTypeError\u001b[0m                                 Traceback (most recent call last)",
      "File \u001b[0;32m~/.sage/local/lib/python3.11/site-packages/picos/expressions/data.py:1261\u001b[0m, in \u001b[0;36mconvert_operands.<locals>.decorator.<locals>.wrapper\u001b[0;34m(lhs, rhs, *args, **kwargs)\u001b[0m\n\u001b[1;32m   1260\u001b[0m             \u001b[38;5;28;01mexcept\u001b[39;00m \u001b[38;5;167;01mTypeError\u001b[39;00m:  \u001b[38;5;66;03m# Try loading as a matrix.\u001b[39;00m\n\u001b[0;32m-> 1261\u001b[0m                 rhs \u001b[38;5;241m=\u001b[39m \u001b[43mConstant\u001b[49m\u001b[43m(\u001b[49m\u001b[43mrhs\u001b[49m\u001b[43m,\u001b[49m\u001b[43m \u001b[49m\u001b[43mshape\u001b[49m\u001b[38;5;241;43m=\u001b[39;49m\u001b[43mrhsShape\u001b[49m\u001b[43m)\u001b[49m\n\u001b[1;32m   1262\u001b[0m \u001b[38;5;28;01melse\u001b[39;00m:\n",
      "File \u001b[0;32m~/.sage/local/lib/python3.11/site-packages/picos/expressions/exp_affine.py:697\u001b[0m, in \u001b[0;36mConstant\u001b[0;34m(name_or_value, value, shape)\u001b[0m\n\u001b[1;32m    695\u001b[0m     name  \u001b[38;5;241m=\u001b[39m name_or_value\n\u001b[0;32m--> 697\u001b[0m value, valStr \u001b[38;5;241m=\u001b[39m \u001b[43mload_data\u001b[49m\u001b[43m(\u001b[49m\u001b[43mvalue\u001b[49m\u001b[43m,\u001b[49m\u001b[43m \u001b[49m\u001b[43mshape\u001b[49m\u001b[43m)\u001b[49m\n\u001b[1;32m    699\u001b[0m \u001b[38;5;28;01mif\u001b[39;00m value\u001b[38;5;241m.\u001b[39mtypecode \u001b[38;5;241m==\u001b[39m \u001b[38;5;124m\"\u001b[39m\u001b[38;5;124mz\u001b[39m\u001b[38;5;124m\"\u001b[39m:\n",
      "File \u001b[0;32m~/.sage/local/lib/python3.11/site-packages/picos/expressions/data.py:688\u001b[0m, in \u001b[0;36mload_data\u001b[0;34m(value, shape, typecode, sparse, alwaysCopy, legacy)\u001b[0m\n\u001b[1;32m    687\u001b[0m \u001b[38;5;28;01melse\u001b[39;00m:\n\u001b[0;32m--> 688\u001b[0m     \u001b[43mbroadcast_error\u001b[49m\u001b[43m(\u001b[49m\u001b[43m)\u001b[49m\n\u001b[1;32m    690\u001b[0m \u001b[38;5;66;03m# The data now has the desired shape.\u001b[39;00m\n",
      "File \u001b[0;32m~/.sage/local/lib/python3.11/site-packages/picos/expressions/data.py:356\u001b[0m, in \u001b[0;36mload_data.<locals>.broadcast_error\u001b[0;34m()\u001b[0m\n\u001b[1;32m    355\u001b[0m \u001b[38;5;124;03m\"\"\"Raise a broadcasting related :class:TypeError.\"\"\"\u001b[39;00m\n\u001b[0;32m--> 356\u001b[0m \u001b[38;5;28;01mraise\u001b[39;00m \u001b[38;5;167;01mTypeError\u001b[39;00m(\u001b[38;5;124m\"\u001b[39m\u001b[38;5;124mCannot broadcast or reshape from \u001b[39m\u001b[38;5;132;01m{}\u001b[39;00m\u001b[38;5;124m to \u001b[39m\u001b[38;5;132;01m{}\u001b[39;00m\u001b[38;5;132;01m{}\u001b[39;00m\u001b[38;5;124m.\u001b[39m\u001b[38;5;124m\"\u001b[39m\n\u001b[1;32m    357\u001b[0m     \u001b[38;5;241m.\u001b[39mformat(glyphs\u001b[38;5;241m.\u001b[39mshape(inShape), glyphs\u001b[38;5;241m.\u001b[39mshape(shape), \u001b[38;5;124m\"\u001b[39m\u001b[38;5;124m read as \u001b[39m\u001b[38;5;132;01m{}\u001b[39;00m\u001b[38;5;124m\"\u001b[39m\n\u001b[1;32m    358\u001b[0m         \u001b[38;5;241m.\u001b[39mformat(glyphs\u001b[38;5;241m.\u001b[39mshape(outShape)) \u001b[38;5;28;01mif\u001b[39;00m shape \u001b[38;5;241m!=\u001b[39m outShape \u001b[38;5;28;01melse\u001b[39;00m \u001b[38;5;124m\"\u001b[39m\u001b[38;5;124m\"\u001b[39m))\n",
      "\u001b[0;31mTypeError\u001b[0m: Cannot broadcast or reshape from 2×20 to ?×1 read as 2×1.",
      "\nThe above exception was the direct cause of the following exception:\n",
      "\u001b[0;31mTypeError\u001b[0m                                 Traceback (most recent call last)",
      "Cell \u001b[0;32mIn [43], line 3\u001b[0m\n\u001b[1;32m      1\u001b[0m \u001b[38;5;66;03m# Define and solve the problem.\u001b[39;00m\n\u001b[1;32m      2\u001b[0m P \u001b[38;5;241m=\u001b[39m pc\u001b[38;5;241m.\u001b[39mProblem()\n\u001b[0;32m----> 3\u001b[0m P\u001b[38;5;241m.\u001b[39mminimize \u001b[38;5;241m=\u001b[39m \u001b[38;5;28mabs\u001b[39m(\u001b[43mA\u001b[49m\u001b[38;5;241;43m*\u001b[39;49m\u001b[43mx\u001b[49m \u001b[38;5;241m-\u001b[39m b)\n",
      "File \u001b[0;32m~/.sage/local/lib/python3.11/site-packages/picos/expressions/data.py:1265\u001b[0m, in \u001b[0;36mconvert_operands.<locals>.decorator.<locals>.wrapper\u001b[0;34m(lhs, rhs, *args, **kwargs)\u001b[0m\n\u001b[1;32m   1263\u001b[0m             rhs \u001b[38;5;241m=\u001b[39m Constant(rhs, shape\u001b[38;5;241m=\u001b[39mrhsShape)\n\u001b[1;32m   1264\u001b[0m     \u001b[38;5;28;01mexcept\u001b[39;00m \u001b[38;5;167;01mException\u001b[39;00m \u001b[38;5;28;01mas\u001b[39;00m error:\n\u001b[0;32m-> 1265\u001b[0m         \u001b[43mfail\u001b[49m\u001b[43m(\u001b[49m\u001b[38;5;124;43m\"\u001b[39;49m\u001b[38;5;124;43mCould not load right hand side as a constant of \u001b[39;49m\u001b[38;5;124;43m\"\u001b[39;49m\n\u001b[1;32m   1266\u001b[0m \u001b[43m            \u001b[49m\u001b[38;5;124;43m\"\u001b[39;49m\u001b[38;5;124;43mmatching shape.\u001b[39;49m\u001b[38;5;124;43m\"\u001b[39;49m\u001b[43m,\u001b[49m\u001b[43m \u001b[49m\u001b[43merror\u001b[49m\u001b[43m)\u001b[49m\n\u001b[1;32m   1267\u001b[0m \u001b[38;5;28;01melif\u001b[39;00m rhsIsExpOrSet:\n\u001b[1;32m   1268\u001b[0m     \u001b[38;5;28;01mif\u001b[39;00m allowNone \u001b[38;5;129;01mand\u001b[39;00m lhs \u001b[38;5;129;01mis\u001b[39;00m \u001b[38;5;28;01mNone\u001b[39;00m:\n",
      "File \u001b[0;32m~/.sage/local/lib/python3.11/site-packages/picos/expressions/data.py:1082\u001b[0m, in \u001b[0;36mconvert_operands.<locals>.decorator.<locals>.wrapper.<locals>.fail\u001b[0;34m(reason, error)\u001b[0m\n\u001b[1;32m   1080\u001b[0m lhsName \u001b[38;5;241m=\u001b[39m lhs\u001b[38;5;241m.\u001b[39mstring \u001b[38;5;28;01mif\u001b[39;00m \u001b[38;5;28mhasattr\u001b[39m(lhs, \u001b[38;5;124m\"\u001b[39m\u001b[38;5;124mstring\u001b[39m\u001b[38;5;124m\"\u001b[39m) \u001b[38;5;28;01melse\u001b[39;00m \u001b[38;5;28mrepr\u001b[39m(lhs)\n\u001b[1;32m   1081\u001b[0m rhsName \u001b[38;5;241m=\u001b[39m rhs\u001b[38;5;241m.\u001b[39mstring \u001b[38;5;28;01mif\u001b[39;00m \u001b[38;5;28mhasattr\u001b[39m(rhs, \u001b[38;5;124m\"\u001b[39m\u001b[38;5;124mstring\u001b[39m\u001b[38;5;124m\"\u001b[39m) \u001b[38;5;28;01melse\u001b[39;00m \u001b[38;5;28mrepr\u001b[39m(rhs)\n\u001b[0;32m-> 1082\u001b[0m \u001b[38;5;28;01mraise\u001b[39;00m \u001b[38;5;167;01mTypeError\u001b[39;00m(\u001b[38;5;124m\"\u001b[39m\u001b[38;5;124mInvalid operation \u001b[39m\u001b[38;5;132;01m{}\u001b[39;00m\u001b[38;5;124m(\u001b[39m\u001b[38;5;132;01m{}\u001b[39;00m\u001b[38;5;124m, \u001b[39m\u001b[38;5;132;01m{}\u001b[39;00m\u001b[38;5;124m): \u001b[39m\u001b[38;5;132;01m{}\u001b[39;00m\u001b[38;5;124m\"\u001b[39m\u001b[38;5;241m.\u001b[39mformat(\n\u001b[1;32m   1083\u001b[0m     opName, lhsName, rhsName, reason)) \u001b[38;5;28;01mfrom\u001b[39;00m \u001b[38;5;21;01merror\u001b[39;00m\n",
      "\u001b[0;31mTypeError\u001b[0m: Invalid operation BiaffineExpression.__rmul__(x, array([[0.15416284, 0.7400497 , 0.26331502, 0.53373939, 0.01457496,\n        0.91874701, 0.90071485, 0.03342143, 0.95694934, 0.13720932,\n        0.28382835, 0.60608318, 0.94422514, 0.85273554, 0.00225923,\n        0.52122603, 0.55203763, 0.48537741, 0.76813415, 0.16071675],\n       [0.76456045, 0.0208098 , 0.13521018, 0.11627302, 0.30989758,\n        0.67145265, 0.47122978, 0.8161683 , 0.28958678, 0.73312598,\n        0.70262236, 0.32756948, 0.33464753, 0.97805808, 0.62458211,\n        0.95031352, 0.76747565, 0.82500925, 0.4066403 , 0.45130841]])): Could not load right hand side as a constant of matching shape."
     ]
    }
   ],
   "source": [
    "# Define and solve the problem.\n",
    "P = pc.Problem()\n",
    "P.minimize = abs(A*x - b)"
   ]
  },
  {
   "cell_type": "code",
   "execution_count": null,
   "id": "4aebb2d7-6a8b-4f66-9689-434f5bcd849f",
   "metadata": {},
   "outputs": [],
   "source": []
  }
 ],
 "metadata": {
  "kernelspec": {
   "display_name": "SageMath 9.8",
   "language": "sage",
   "name": "sagemath-9.8"
  },
  "language_info": {
   "codemirror_mode": {
    "name": "ipython",
    "version": 3
   },
   "file_extension": ".py",
   "mimetype": "text/x-python",
   "name": "python",
   "nbconvert_exporter": "python",
   "pygments_lexer": "ipython3",
   "version": "3.11.1"
  }
 },
 "nbformat": 4,
 "nbformat_minor": 5
}
