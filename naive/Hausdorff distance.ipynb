{
 "cells": [
  {
   "cell_type": "markdown",
   "id": "1d2ec738",
   "metadata": {},
   "source": [
    "https://docs.scipy.org/doc/scipy/reference/generated/scipy.spatial.distance.directed_hausdorff.html"
   ]
  },
  {
   "cell_type": "code",
   "execution_count": 25,
   "id": "8ced466e",
   "metadata": {},
   "outputs": [],
   "source": [
    "import numpy as np\n",
    "from scipy.spatial.distance import directed_hausdorff"
   ]
  },
  {
   "cell_type": "code",
   "execution_count": 32,
   "id": "898a6046",
   "metadata": {},
   "outputs": [],
   "source": [
    "u = np.array([(1.0, 0.0), (0.0, 1.0), (-1.0, 0.0), (0.0, -1.0)])"
   ]
  },
  {
   "cell_type": "code",
   "execution_count": 70,
   "id": "ae8e783b",
   "metadata": {},
   "outputs": [],
   "source": [
    "v = np.array([(2.0, 0.0), (0.0, 2.0), (-2.0, 0.0), (0.0, -4.0)])"
   ]
  },
  {
   "cell_type": "code",
   "execution_count": 71,
   "id": "3d155da1",
   "metadata": {},
   "outputs": [
    {
     "data": {
      "text/plain": [
       "2.23606797749979"
      ]
     },
     "execution_count": 71,
     "metadata": {},
     "output_type": "execute_result"
    }
   ],
   "source": [
    "directed_hausdorff(u, v)[0]"
   ]
  },
  {
   "cell_type": "code",
   "execution_count": 72,
   "id": "2bc54b57",
   "metadata": {},
   "outputs": [
    {
     "data": {
      "text/plain": [
       "3.0"
      ]
     },
     "execution_count": 72,
     "metadata": {},
     "output_type": "execute_result"
    }
   ],
   "source": [
    "directed_hausdorff(v, u)[0]"
   ]
  },
  {
   "cell_type": "code",
   "execution_count": 55,
   "id": "d5e22892",
   "metadata": {},
   "outputs": [
    {
     "data": {
      "text/plain": [
       "3.0"
      ]
     },
     "execution_count": 55,
     "metadata": {},
     "output_type": "execute_result"
    }
   ],
   "source": [
    "max(directed_hausdorff(u, v)[0], directed_hausdorff(v, u)[0])"
   ]
  },
  {
   "cell_type": "code",
   "execution_count": 56,
   "id": "a49d6999",
   "metadata": {},
   "outputs": [
    {
     "data": {
      "text/plain": [
       "(3, 3)"
      ]
     },
     "execution_count": 56,
     "metadata": {},
     "output_type": "execute_result"
    }
   ],
   "source": [
    "directed_hausdorff(v, u)[1:]"
   ]
  },
  {
   "cell_type": "code",
   "execution_count": 49,
   "id": "81d2ba47",
   "metadata": {},
   "outputs": [
    {
     "data": {
      "text/plain": [
       "(1, 0)"
      ]
     },
     "execution_count": 49,
     "metadata": {},
     "output_type": "execute_result"
    }
   ],
   "source": [
    "triangle = Polyhedron(vertices=[(0,2), (-1,0), (1,0), (0,0)])\n",
    "vector(triangle.vertices()[1])"
   ]
  },
  {
   "cell_type": "code",
   "execution_count": 39,
   "id": "1b2d1afc",
   "metadata": {},
   "outputs": [
    {
     "data": {
      "image/png": "[encoded data removed]",
      "text/plain": [
       "Graphics object consisting of 5 graphics primitives"
      ]
     },
     "execution_count": 39,
     "metadata": {},
     "output_type": "execute_result"
    }
   ],
   "source": [
    "plot(triangle)"
   ]
  },
  {
   "cell_type": "code",
   "execution_count": 69,
   "id": "ec765d41",
   "metadata": {},
   "outputs": [
    {
     "data": {
      "text/plain": [
       "4.123105625617661"
      ]
     },
     "execution_count": 69,
     "metadata": {},
     "output_type": "execute_result"
    }
   ],
   "source": [
    "np.sqrt(17.0)"
   ]
  },
  {
   "cell_type": "code",
   "execution_count": null,
   "id": "af7e0126",
   "metadata": {},
   "outputs": [],
   "source": []
  }
 ],
 "metadata": {
  "kernelspec": {
   "display_name": "SageMath 9.6",
   "language": "sage",
   "name": "sagemath-9.6"
  },
  "language_info": {
   "codemirror_mode": {
    "name": "ipython",
    "version": 3
   },
   "file_extension": ".py",
   "mimetype": "text/x-python",
   "name": "python",
   "nbconvert_exporter": "python",
   "pygments_lexer": "ipython3",
   "version": "3.10.3"
  }
 },
 "nbformat": 4,
 "nbformat_minor": 5
}
